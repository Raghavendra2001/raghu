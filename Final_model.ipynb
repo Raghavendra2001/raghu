{
  "nbformat": 4,
  "nbformat_minor": 0,
  "metadata": {
    "colab": {
      "name": "Final_model.ipynb",
      "provenance": [],
      "collapsed_sections": []
    },
    "kernelspec": {
      "name": "python3",
      "display_name": "Python 3"
    },
    "language_info": {
      "name": "python"
    }
  },
  "cells": [
    {
      "cell_type": "code",
      "execution_count": null,
      "metadata": {
        "id": "0Hx5skgZzqV3"
      },
      "outputs": [],
      "source": [
        "import pandas as pd\n",
        "import numpy as np"
      ]
    },
    {
      "cell_type": "code",
      "source": [
        "df=pd.read_csv('co2_emissions (1).csv',sep=';')\n",
        "df.head()\n"
      ],
      "metadata": {
        "id": "BQZQRT_Iz8ab",
        "colab": {
          "base_uri": "https://localhost:8080/",
          "height": 322
        },
        "outputId": "b7416978-1f47-4a81-cfb3-27e5e0f52c60"
      },
      "execution_count": null,
      "outputs": [
        {
          "output_type": "execute_result",
          "data": {
            "text/plain": [
              "    make       model vehicle_class  engine_size  cylinders transmission  \\\n",
              "0  ACURA         ILX       COMPACT          2.0          4           AS   \n",
              "1  ACURA         ILX       COMPACT          2.4          4            M   \n",
              "2  ACURA  ILX HYBRID       COMPACT          1.5          4           AV   \n",
              "3  ACURA     MDX 4WD   SUV - SMALL          3.5          6           AS   \n",
              "4  ACURA     RDX AWD   SUV - SMALL          3.5          6           AS   \n",
              "\n",
              "  fuel_type  fuel_consumption_city  fuel_consumption_hwy  \\\n",
              "0         Z                    9.9                   6.7   \n",
              "1         Z                   11.2                   7.7   \n",
              "2         Z                    6.0                   5.8   \n",
              "3         Z                   12.7                   9.1   \n",
              "4         Z                   12.1                   8.7   \n",
              "\n",
              "   fuel_consumption_comb(l/100km)  fuel_consumption_comb(mpg)  co2_emissions  \n",
              "0                             8.5                          33            196  \n",
              "1                             9.6                          29            221  \n",
              "2                             5.9                          48            136  \n",
              "3                            11.1                          25            255  \n",
              "4                            10.6                          27            244  "
            ],
            "text/html": [
              "\n",
              "  <div id=\"df-266d4c54-9d74-46d7-b0db-3afc10bb3029\">\n",
              "    <div class=\"colab-df-container\">\n",
              "      <div>\n",
              "<style scoped>\n",
              "    .dataframe tbody tr th:only-of-type {\n",
              "        vertical-align: middle;\n",
              "    }\n",
              "\n",
              "    .dataframe tbody tr th {\n",
              "        vertical-align: top;\n",
              "    }\n",
              "\n",
              "    .dataframe thead th {\n",
              "        text-align: right;\n",
              "    }\n",
              "</style>\n",
              "<table border=\"1\" class=\"dataframe\">\n",
              "  <thead>\n",
              "    <tr style=\"text-align: right;\">\n",
              "      <th></th>\n",
              "      <th>make</th>\n",
              "      <th>model</th>\n",
              "      <th>vehicle_class</th>\n",
              "      <th>engine_size</th>\n",
              "      <th>cylinders</th>\n",
              "      <th>transmission</th>\n",
              "      <th>fuel_type</th>\n",
              "      <th>fuel_consumption_city</th>\n",
              "      <th>fuel_consumption_hwy</th>\n",
              "      <th>fuel_consumption_comb(l/100km)</th>\n",
              "      <th>fuel_consumption_comb(mpg)</th>\n",
              "      <th>co2_emissions</th>\n",
              "    </tr>\n",
              "  </thead>\n",
              "  <tbody>\n",
              "    <tr>\n",
              "      <th>0</th>\n",
              "      <td>ACURA</td>\n",
              "      <td>ILX</td>\n",
              "      <td>COMPACT</td>\n",
              "      <td>2.0</td>\n",
              "      <td>4</td>\n",
              "      <td>AS</td>\n",
              "      <td>Z</td>\n",
              "      <td>9.9</td>\n",
              "      <td>6.7</td>\n",
              "      <td>8.5</td>\n",
              "      <td>33</td>\n",
              "      <td>196</td>\n",
              "    </tr>\n",
              "    <tr>\n",
              "      <th>1</th>\n",
              "      <td>ACURA</td>\n",
              "      <td>ILX</td>\n",
              "      <td>COMPACT</td>\n",
              "      <td>2.4</td>\n",
              "      <td>4</td>\n",
              "      <td>M</td>\n",
              "      <td>Z</td>\n",
              "      <td>11.2</td>\n",
              "      <td>7.7</td>\n",
              "      <td>9.6</td>\n",
              "      <td>29</td>\n",
              "      <td>221</td>\n",
              "    </tr>\n",
              "    <tr>\n",
              "      <th>2</th>\n",
              "      <td>ACURA</td>\n",
              "      <td>ILX HYBRID</td>\n",
              "      <td>COMPACT</td>\n",
              "      <td>1.5</td>\n",
              "      <td>4</td>\n",
              "      <td>AV</td>\n",
              "      <td>Z</td>\n",
              "      <td>6.0</td>\n",
              "      <td>5.8</td>\n",
              "      <td>5.9</td>\n",
              "      <td>48</td>\n",
              "      <td>136</td>\n",
              "    </tr>\n",
              "    <tr>\n",
              "      <th>3</th>\n",
              "      <td>ACURA</td>\n",
              "      <td>MDX 4WD</td>\n",
              "      <td>SUV - SMALL</td>\n",
              "      <td>3.5</td>\n",
              "      <td>6</td>\n",
              "      <td>AS</td>\n",
              "      <td>Z</td>\n",
              "      <td>12.7</td>\n",
              "      <td>9.1</td>\n",
              "      <td>11.1</td>\n",
              "      <td>25</td>\n",
              "      <td>255</td>\n",
              "    </tr>\n",
              "    <tr>\n",
              "      <th>4</th>\n",
              "      <td>ACURA</td>\n",
              "      <td>RDX AWD</td>\n",
              "      <td>SUV - SMALL</td>\n",
              "      <td>3.5</td>\n",
              "      <td>6</td>\n",
              "      <td>AS</td>\n",
              "      <td>Z</td>\n",
              "      <td>12.1</td>\n",
              "      <td>8.7</td>\n",
              "      <td>10.6</td>\n",
              "      <td>27</td>\n",
              "      <td>244</td>\n",
              "    </tr>\n",
              "  </tbody>\n",
              "</table>\n",
              "</div>\n",
              "      <button class=\"colab-df-convert\" onclick=\"convertToInteractive('df-266d4c54-9d74-46d7-b0db-3afc10bb3029')\"\n",
              "              title=\"Convert this dataframe to an interactive table.\"\n",
              "              style=\"display:none;\">\n",
              "        \n",
              "  <svg xmlns=\"http://www.w3.org/2000/svg\" height=\"24px\"viewBox=\"0 0 24 24\"\n",
              "       width=\"24px\">\n",
              "    <path d=\"M0 0h24v24H0V0z\" fill=\"none\"/>\n",
              "    <path d=\"M18.56 5.44l.94 2.06.94-2.06 2.06-.94-2.06-.94-.94-2.06-.94 2.06-2.06.94zm-11 1L8.5 8.5l.94-2.06 2.06-.94-2.06-.94L8.5 2.5l-.94 2.06-2.06.94zm10 10l.94 2.06.94-2.06 2.06-.94-2.06-.94-.94-2.06-.94 2.06-2.06.94z\"/><path d=\"M17.41 7.96l-1.37-1.37c-.4-.4-.92-.59-1.43-.59-.52 0-1.04.2-1.43.59L10.3 9.45l-7.72 7.72c-.78.78-.78 2.05 0 2.83L4 21.41c.39.39.9.59 1.41.59.51 0 1.02-.2 1.41-.59l7.78-7.78 2.81-2.81c.8-.78.8-2.07 0-2.86zM5.41 20L4 18.59l7.72-7.72 1.47 1.35L5.41 20z\"/>\n",
              "  </svg>\n",
              "      </button>\n",
              "      \n",
              "  <style>\n",
              "    .colab-df-container {\n",
              "      display:flex;\n",
              "      flex-wrap:wrap;\n",
              "      gap: 12px;\n",
              "    }\n",
              "\n",
              "    .colab-df-convert {\n",
              "      background-color: #E8F0FE;\n",
              "      border: none;\n",
              "      border-radius: 50%;\n",
              "      cursor: pointer;\n",
              "      display: none;\n",
              "      fill: #1967D2;\n",
              "      height: 32px;\n",
              "      padding: 0 0 0 0;\n",
              "      width: 32px;\n",
              "    }\n",
              "\n",
              "    .colab-df-convert:hover {\n",
              "      background-color: #E2EBFA;\n",
              "      box-shadow: 0px 1px 2px rgba(60, 64, 67, 0.3), 0px 1px 3px 1px rgba(60, 64, 67, 0.15);\n",
              "      fill: #174EA6;\n",
              "    }\n",
              "\n",
              "    [theme=dark] .colab-df-convert {\n",
              "      background-color: #3B4455;\n",
              "      fill: #D2E3FC;\n",
              "    }\n",
              "\n",
              "    [theme=dark] .colab-df-convert:hover {\n",
              "      background-color: #434B5C;\n",
              "      box-shadow: 0px 1px 3px 1px rgba(0, 0, 0, 0.15);\n",
              "      filter: drop-shadow(0px 1px 2px rgba(0, 0, 0, 0.3));\n",
              "      fill: #FFFFFF;\n",
              "    }\n",
              "  </style>\n",
              "\n",
              "      <script>\n",
              "        const buttonEl =\n",
              "          document.querySelector('#df-266d4c54-9d74-46d7-b0db-3afc10bb3029 button.colab-df-convert');\n",
              "        buttonEl.style.display =\n",
              "          google.colab.kernel.accessAllowed ? 'block' : 'none';\n",
              "\n",
              "        async function convertToInteractive(key) {\n",
              "          const element = document.querySelector('#df-266d4c54-9d74-46d7-b0db-3afc10bb3029');\n",
              "          const dataTable =\n",
              "            await google.colab.kernel.invokeFunction('convertToInteractive',\n",
              "                                                     [key], {});\n",
              "          if (!dataTable) return;\n",
              "\n",
              "          const docLinkHtml = 'Like what you see? Visit the ' +\n",
              "            '<a target=\"_blank\" href=https://colab.research.google.com/notebooks/data_table.ipynb>data table notebook</a>'\n",
              "            + ' to learn more about interactive tables.';\n",
              "          element.innerHTML = '';\n",
              "          dataTable['output_type'] = 'display_data';\n",
              "          await google.colab.output.renderOutput(dataTable, element);\n",
              "          const docLink = document.createElement('div');\n",
              "          docLink.innerHTML = docLinkHtml;\n",
              "          element.appendChild(docLink);\n",
              "        }\n",
              "      </script>\n",
              "    </div>\n",
              "  </div>\n",
              "  "
            ]
          },
          "metadata": {},
          "execution_count": 2
        }
      ]
    },
    {
      "cell_type": "code",
      "source": [
        "df.shape\n",
        "\n"
      ],
      "metadata": {
        "colab": {
          "base_uri": "https://localhost:8080/"
        },
        "id": "s_ceWEhXz8ks",
        "outputId": "5399227b-bc8d-4dff-f58f-c8888405d975"
      },
      "execution_count": null,
      "outputs": [
        {
          "output_type": "execute_result",
          "data": {
            "text/plain": [
              "(7385, 12)"
            ]
          },
          "metadata": {},
          "execution_count": 3
        }
      ]
    },
    {
      "cell_type": "code",
      "source": [
        "cat_col=[]\n",
        "for i in df.columns:\n",
        "  if df[i].dtype == 'object':\n",
        "    cat_col.append(i)\n",
        "cat_col"
      ],
      "metadata": {
        "id": "-P_7Svg1z8qN",
        "colab": {
          "base_uri": "https://localhost:8080/"
        },
        "outputId": "5a4c251e-fa34-42c9-aae3-5f03b9e3be5c"
      },
      "execution_count": null,
      "outputs": [
        {
          "output_type": "execute_result",
          "data": {
            "text/plain": [
              "['make', 'model', 'vehicle_class', 'transmission', 'fuel_type']"
            ]
          },
          "metadata": {},
          "execution_count": 4
        }
      ]
    },
    {
      "cell_type": "code",
      "source": [
        "for i in cat_col:\n",
        "  df[i]=df[i].apply(lambda x:x.lower())"
      ],
      "metadata": {
        "id": "g2o0aGz4z8tJ"
      },
      "execution_count": null,
      "outputs": []
    },
    {
      "cell_type": "code",
      "source": [
        "df.head()"
      ],
      "metadata": {
        "id": "8VUG5oxFz8vo",
        "colab": {
          "base_uri": "https://localhost:8080/",
          "height": 322
        },
        "outputId": "ebfb42a3-f9dc-49d7-88ce-f6e8e21741fb"
      },
      "execution_count": null,
      "outputs": [
        {
          "output_type": "execute_result",
          "data": {
            "text/plain": [
              "    make       model vehicle_class  engine_size  cylinders transmission  \\\n",
              "0  acura         ilx       compact          2.0          4           as   \n",
              "1  acura         ilx       compact          2.4          4            m   \n",
              "2  acura  ilx hybrid       compact          1.5          4           av   \n",
              "3  acura     mdx 4wd   suv - small          3.5          6           as   \n",
              "4  acura     rdx awd   suv - small          3.5          6           as   \n",
              "\n",
              "  fuel_type  fuel_consumption_city  fuel_consumption_hwy  \\\n",
              "0         z                    9.9                   6.7   \n",
              "1         z                   11.2                   7.7   \n",
              "2         z                    6.0                   5.8   \n",
              "3         z                   12.7                   9.1   \n",
              "4         z                   12.1                   8.7   \n",
              "\n",
              "   fuel_consumption_comb(l/100km)  fuel_consumption_comb(mpg)  co2_emissions  \n",
              "0                             8.5                          33            196  \n",
              "1                             9.6                          29            221  \n",
              "2                             5.9                          48            136  \n",
              "3                            11.1                          25            255  \n",
              "4                            10.6                          27            244  "
            ],
            "text/html": [
              "\n",
              "  <div id=\"df-000d1ebf-edd1-45b4-b6ba-ef2d8b8f0663\">\n",
              "    <div class=\"colab-df-container\">\n",
              "      <div>\n",
              "<style scoped>\n",
              "    .dataframe tbody tr th:only-of-type {\n",
              "        vertical-align: middle;\n",
              "    }\n",
              "\n",
              "    .dataframe tbody tr th {\n",
              "        vertical-align: top;\n",
              "    }\n",
              "\n",
              "    .dataframe thead th {\n",
              "        text-align: right;\n",
              "    }\n",
              "</style>\n",
              "<table border=\"1\" class=\"dataframe\">\n",
              "  <thead>\n",
              "    <tr style=\"text-align: right;\">\n",
              "      <th></th>\n",
              "      <th>make</th>\n",
              "      <th>model</th>\n",
              "      <th>vehicle_class</th>\n",
              "      <th>engine_size</th>\n",
              "      <th>cylinders</th>\n",
              "      <th>transmission</th>\n",
              "      <th>fuel_type</th>\n",
              "      <th>fuel_consumption_city</th>\n",
              "      <th>fuel_consumption_hwy</th>\n",
              "      <th>fuel_consumption_comb(l/100km)</th>\n",
              "      <th>fuel_consumption_comb(mpg)</th>\n",
              "      <th>co2_emissions</th>\n",
              "    </tr>\n",
              "  </thead>\n",
              "  <tbody>\n",
              "    <tr>\n",
              "      <th>0</th>\n",
              "      <td>acura</td>\n",
              "      <td>ilx</td>\n",
              "      <td>compact</td>\n",
              "      <td>2.0</td>\n",
              "      <td>4</td>\n",
              "      <td>as</td>\n",
              "      <td>z</td>\n",
              "      <td>9.9</td>\n",
              "      <td>6.7</td>\n",
              "      <td>8.5</td>\n",
              "      <td>33</td>\n",
              "      <td>196</td>\n",
              "    </tr>\n",
              "    <tr>\n",
              "      <th>1</th>\n",
              "      <td>acura</td>\n",
              "      <td>ilx</td>\n",
              "      <td>compact</td>\n",
              "      <td>2.4</td>\n",
              "      <td>4</td>\n",
              "      <td>m</td>\n",
              "      <td>z</td>\n",
              "      <td>11.2</td>\n",
              "      <td>7.7</td>\n",
              "      <td>9.6</td>\n",
              "      <td>29</td>\n",
              "      <td>221</td>\n",
              "    </tr>\n",
              "    <tr>\n",
              "      <th>2</th>\n",
              "      <td>acura</td>\n",
              "      <td>ilx hybrid</td>\n",
              "      <td>compact</td>\n",
              "      <td>1.5</td>\n",
              "      <td>4</td>\n",
              "      <td>av</td>\n",
              "      <td>z</td>\n",
              "      <td>6.0</td>\n",
              "      <td>5.8</td>\n",
              "      <td>5.9</td>\n",
              "      <td>48</td>\n",
              "      <td>136</td>\n",
              "    </tr>\n",
              "    <tr>\n",
              "      <th>3</th>\n",
              "      <td>acura</td>\n",
              "      <td>mdx 4wd</td>\n",
              "      <td>suv - small</td>\n",
              "      <td>3.5</td>\n",
              "      <td>6</td>\n",
              "      <td>as</td>\n",
              "      <td>z</td>\n",
              "      <td>12.7</td>\n",
              "      <td>9.1</td>\n",
              "      <td>11.1</td>\n",
              "      <td>25</td>\n",
              "      <td>255</td>\n",
              "    </tr>\n",
              "    <tr>\n",
              "      <th>4</th>\n",
              "      <td>acura</td>\n",
              "      <td>rdx awd</td>\n",
              "      <td>suv - small</td>\n",
              "      <td>3.5</td>\n",
              "      <td>6</td>\n",
              "      <td>as</td>\n",
              "      <td>z</td>\n",
              "      <td>12.1</td>\n",
              "      <td>8.7</td>\n",
              "      <td>10.6</td>\n",
              "      <td>27</td>\n",
              "      <td>244</td>\n",
              "    </tr>\n",
              "  </tbody>\n",
              "</table>\n",
              "</div>\n",
              "      <button class=\"colab-df-convert\" onclick=\"convertToInteractive('df-000d1ebf-edd1-45b4-b6ba-ef2d8b8f0663')\"\n",
              "              title=\"Convert this dataframe to an interactive table.\"\n",
              "              style=\"display:none;\">\n",
              "        \n",
              "  <svg xmlns=\"http://www.w3.org/2000/svg\" height=\"24px\"viewBox=\"0 0 24 24\"\n",
              "       width=\"24px\">\n",
              "    <path d=\"M0 0h24v24H0V0z\" fill=\"none\"/>\n",
              "    <path d=\"M18.56 5.44l.94 2.06.94-2.06 2.06-.94-2.06-.94-.94-2.06-.94 2.06-2.06.94zm-11 1L8.5 8.5l.94-2.06 2.06-.94-2.06-.94L8.5 2.5l-.94 2.06-2.06.94zm10 10l.94 2.06.94-2.06 2.06-.94-2.06-.94-.94-2.06-.94 2.06-2.06.94z\"/><path d=\"M17.41 7.96l-1.37-1.37c-.4-.4-.92-.59-1.43-.59-.52 0-1.04.2-1.43.59L10.3 9.45l-7.72 7.72c-.78.78-.78 2.05 0 2.83L4 21.41c.39.39.9.59 1.41.59.51 0 1.02-.2 1.41-.59l7.78-7.78 2.81-2.81c.8-.78.8-2.07 0-2.86zM5.41 20L4 18.59l7.72-7.72 1.47 1.35L5.41 20z\"/>\n",
              "  </svg>\n",
              "      </button>\n",
              "      \n",
              "  <style>\n",
              "    .colab-df-container {\n",
              "      display:flex;\n",
              "      flex-wrap:wrap;\n",
              "      gap: 12px;\n",
              "    }\n",
              "\n",
              "    .colab-df-convert {\n",
              "      background-color: #E8F0FE;\n",
              "      border: none;\n",
              "      border-radius: 50%;\n",
              "      cursor: pointer;\n",
              "      display: none;\n",
              "      fill: #1967D2;\n",
              "      height: 32px;\n",
              "      padding: 0 0 0 0;\n",
              "      width: 32px;\n",
              "    }\n",
              "\n",
              "    .colab-df-convert:hover {\n",
              "      background-color: #E2EBFA;\n",
              "      box-shadow: 0px 1px 2px rgba(60, 64, 67, 0.3), 0px 1px 3px 1px rgba(60, 64, 67, 0.15);\n",
              "      fill: #174EA6;\n",
              "    }\n",
              "\n",
              "    [theme=dark] .colab-df-convert {\n",
              "      background-color: #3B4455;\n",
              "      fill: #D2E3FC;\n",
              "    }\n",
              "\n",
              "    [theme=dark] .colab-df-convert:hover {\n",
              "      background-color: #434B5C;\n",
              "      box-shadow: 0px 1px 3px 1px rgba(0, 0, 0, 0.15);\n",
              "      filter: drop-shadow(0px 1px 2px rgba(0, 0, 0, 0.3));\n",
              "      fill: #FFFFFF;\n",
              "    }\n",
              "  </style>\n",
              "\n",
              "      <script>\n",
              "        const buttonEl =\n",
              "          document.querySelector('#df-000d1ebf-edd1-45b4-b6ba-ef2d8b8f0663 button.colab-df-convert');\n",
              "        buttonEl.style.display =\n",
              "          google.colab.kernel.accessAllowed ? 'block' : 'none';\n",
              "\n",
              "        async function convertToInteractive(key) {\n",
              "          const element = document.querySelector('#df-000d1ebf-edd1-45b4-b6ba-ef2d8b8f0663');\n",
              "          const dataTable =\n",
              "            await google.colab.kernel.invokeFunction('convertToInteractive',\n",
              "                                                     [key], {});\n",
              "          if (!dataTable) return;\n",
              "\n",
              "          const docLinkHtml = 'Like what you see? Visit the ' +\n",
              "            '<a target=\"_blank\" href=https://colab.research.google.com/notebooks/data_table.ipynb>data table notebook</a>'\n",
              "            + ' to learn more about interactive tables.';\n",
              "          element.innerHTML = '';\n",
              "          dataTable['output_type'] = 'display_data';\n",
              "          await google.colab.output.renderOutput(dataTable, element);\n",
              "          const docLink = document.createElement('div');\n",
              "          docLink.innerHTML = docLinkHtml;\n",
              "          element.appendChild(docLink);\n",
              "        }\n",
              "      </script>\n",
              "    </div>\n",
              "  </div>\n",
              "  "
            ]
          },
          "metadata": {},
          "execution_count": 6
        }
      ]
    },
    {
      "cell_type": "code",
      "source": [
        "df.drop(['make','model','vehicle_class'],axis=1,inplace=True)"
      ],
      "metadata": {
        "id": "6cq1BcDg9RFR"
      },
      "execution_count": null,
      "outputs": []
    },
    {
      "cell_type": "code",
      "source": [
        "df.drop_duplicates(inplace=True) \n",
        "df.shape"
      ],
      "metadata": {
        "colab": {
          "base_uri": "https://localhost:8080/"
        },
        "id": "s67Aa3ul8O6X",
        "outputId": "0dcd8818-f78c-4a56-d5c1-b89a24eae79a"
      },
      "execution_count": null,
      "outputs": [
        {
          "output_type": "execute_result",
          "data": {
            "text/plain": [
              "(4532, 9)"
            ]
          },
          "metadata": {},
          "execution_count": 8
        }
      ]
    },
    {
      "cell_type": "code",
      "source": [
        "df['transmission'].value_counts()"
      ],
      "metadata": {
        "colab": {
          "base_uri": "https://localhost:8080/"
        },
        "id": "kAV7LpUj-LEJ",
        "outputId": "56be7ef4-5275-4efa-f935-40e646ac2a91"
      },
      "execution_count": null,
      "outputs": [
        {
          "output_type": "execute_result",
          "data": {
            "text/plain": [
              "as    2062\n",
              "a      974\n",
              "m      721\n",
              "av     402\n",
              "am     373\n",
              "Name: transmission, dtype: int64"
            ]
          },
          "metadata": {},
          "execution_count": 9
        }
      ]
    },
    {
      "cell_type": "code",
      "source": [
        "df['fuel_type'].value_counts()"
      ],
      "metadata": {
        "colab": {
          "base_uri": "https://localhost:8080/"
        },
        "id": "64T2amSA_TZz",
        "outputId": "e0f2a9c6-5183-49be-8e8d-e20f5b311665"
      },
      "execution_count": null,
      "outputs": [
        {
          "output_type": "execute_result",
          "data": {
            "text/plain": [
              "x    2345\n",
              "z    1847\n",
              "e     231\n",
              "d     108\n",
              "n       1\n",
              "Name: fuel_type, dtype: int64"
            ]
          },
          "metadata": {},
          "execution_count": 10
        }
      ]
    },
    {
      "cell_type": "code",
      "source": [
        "#transmission, \"A\" for`Automatic', \"AM\" for ``Automated manual', \"AS\" for 'Automatic with select shift', \"AV\" for 'Continuously variable', \"M\" for 'Manual'.\n",
        "#fuel_type, \"X\" for 'Regular gasoline', \"Z\" for 'Premium gasoline', \"D\" for 'Diesel', \"E\" for 'Ethanol (E85)', \"N\" for 'Natural gas'.\n"
      ],
      "metadata": {
        "id": "dnd9LoZq-e54"
      },
      "execution_count": null,
      "outputs": []
    },
    {
      "cell_type": "code",
      "source": [
        "df['transmission']=df['transmission'].map({\"a\":\"Automatic\",'am':'Automated manual','as':'Automatic with select shift','av':'Continuously variable','m':'Manual'})\n",
        "df['fuel_type']=df['fuel_type'].map({\"x\":\"Regular gasoline\",'z':'Premium gasoline','d':'Diesel','e':'Ethanol (E85)','n':'Natural gas'})\n"
      ],
      "metadata": {
        "id": "Zx5WHknG-AWa"
      },
      "execution_count": null,
      "outputs": []
    },
    {
      "cell_type": "code",
      "source": [
        "df.head()"
      ],
      "metadata": {
        "colab": {
          "base_uri": "https://localhost:8080/",
          "height": 357
        },
        "id": "Zb09jeVD_a6P",
        "outputId": "68e1b54b-4888-4970-f2f1-877099649052"
      },
      "execution_count": null,
      "outputs": [
        {
          "output_type": "execute_result",
          "data": {
            "text/plain": [
              "   engine_size  cylinders                 transmission         fuel_type  \\\n",
              "0          2.0          4  Automatic with select shift  Premium gasoline   \n",
              "1          2.4          4                       Manual  Premium gasoline   \n",
              "2          1.5          4        Continuously variable  Premium gasoline   \n",
              "3          3.5          6  Automatic with select shift  Premium gasoline   \n",
              "4          3.5          6  Automatic with select shift  Premium gasoline   \n",
              "\n",
              "   fuel_consumption_city  fuel_consumption_hwy  \\\n",
              "0                    9.9                   6.7   \n",
              "1                   11.2                   7.7   \n",
              "2                    6.0                   5.8   \n",
              "3                   12.7                   9.1   \n",
              "4                   12.1                   8.7   \n",
              "\n",
              "   fuel_consumption_comb(l/100km)  fuel_consumption_comb(mpg)  co2_emissions  \n",
              "0                             8.5                          33            196  \n",
              "1                             9.6                          29            221  \n",
              "2                             5.9                          48            136  \n",
              "3                            11.1                          25            255  \n",
              "4                            10.6                          27            244  "
            ],
            "text/html": [
              "\n",
              "  <div id=\"df-74708a2f-902c-46b3-86e3-d4b25976c7dc\">\n",
              "    <div class=\"colab-df-container\">\n",
              "      <div>\n",
              "<style scoped>\n",
              "    .dataframe tbody tr th:only-of-type {\n",
              "        vertical-align: middle;\n",
              "    }\n",
              "\n",
              "    .dataframe tbody tr th {\n",
              "        vertical-align: top;\n",
              "    }\n",
              "\n",
              "    .dataframe thead th {\n",
              "        text-align: right;\n",
              "    }\n",
              "</style>\n",
              "<table border=\"1\" class=\"dataframe\">\n",
              "  <thead>\n",
              "    <tr style=\"text-align: right;\">\n",
              "      <th></th>\n",
              "      <th>engine_size</th>\n",
              "      <th>cylinders</th>\n",
              "      <th>transmission</th>\n",
              "      <th>fuel_type</th>\n",
              "      <th>fuel_consumption_city</th>\n",
              "      <th>fuel_consumption_hwy</th>\n",
              "      <th>fuel_consumption_comb(l/100km)</th>\n",
              "      <th>fuel_consumption_comb(mpg)</th>\n",
              "      <th>co2_emissions</th>\n",
              "    </tr>\n",
              "  </thead>\n",
              "  <tbody>\n",
              "    <tr>\n",
              "      <th>0</th>\n",
              "      <td>2.0</td>\n",
              "      <td>4</td>\n",
              "      <td>Automatic with select shift</td>\n",
              "      <td>Premium gasoline</td>\n",
              "      <td>9.9</td>\n",
              "      <td>6.7</td>\n",
              "      <td>8.5</td>\n",
              "      <td>33</td>\n",
              "      <td>196</td>\n",
              "    </tr>\n",
              "    <tr>\n",
              "      <th>1</th>\n",
              "      <td>2.4</td>\n",
              "      <td>4</td>\n",
              "      <td>Manual</td>\n",
              "      <td>Premium gasoline</td>\n",
              "      <td>11.2</td>\n",
              "      <td>7.7</td>\n",
              "      <td>9.6</td>\n",
              "      <td>29</td>\n",
              "      <td>221</td>\n",
              "    </tr>\n",
              "    <tr>\n",
              "      <th>2</th>\n",
              "      <td>1.5</td>\n",
              "      <td>4</td>\n",
              "      <td>Continuously variable</td>\n",
              "      <td>Premium gasoline</td>\n",
              "      <td>6.0</td>\n",
              "      <td>5.8</td>\n",
              "      <td>5.9</td>\n",
              "      <td>48</td>\n",
              "      <td>136</td>\n",
              "    </tr>\n",
              "    <tr>\n",
              "      <th>3</th>\n",
              "      <td>3.5</td>\n",
              "      <td>6</td>\n",
              "      <td>Automatic with select shift</td>\n",
              "      <td>Premium gasoline</td>\n",
              "      <td>12.7</td>\n",
              "      <td>9.1</td>\n",
              "      <td>11.1</td>\n",
              "      <td>25</td>\n",
              "      <td>255</td>\n",
              "    </tr>\n",
              "    <tr>\n",
              "      <th>4</th>\n",
              "      <td>3.5</td>\n",
              "      <td>6</td>\n",
              "      <td>Automatic with select shift</td>\n",
              "      <td>Premium gasoline</td>\n",
              "      <td>12.1</td>\n",
              "      <td>8.7</td>\n",
              "      <td>10.6</td>\n",
              "      <td>27</td>\n",
              "      <td>244</td>\n",
              "    </tr>\n",
              "  </tbody>\n",
              "</table>\n",
              "</div>\n",
              "      <button class=\"colab-df-convert\" onclick=\"convertToInteractive('df-74708a2f-902c-46b3-86e3-d4b25976c7dc')\"\n",
              "              title=\"Convert this dataframe to an interactive table.\"\n",
              "              style=\"display:none;\">\n",
              "        \n",
              "  <svg xmlns=\"http://www.w3.org/2000/svg\" height=\"24px\"viewBox=\"0 0 24 24\"\n",
              "       width=\"24px\">\n",
              "    <path d=\"M0 0h24v24H0V0z\" fill=\"none\"/>\n",
              "    <path d=\"M18.56 5.44l.94 2.06.94-2.06 2.06-.94-2.06-.94-.94-2.06-.94 2.06-2.06.94zm-11 1L8.5 8.5l.94-2.06 2.06-.94-2.06-.94L8.5 2.5l-.94 2.06-2.06.94zm10 10l.94 2.06.94-2.06 2.06-.94-2.06-.94-.94-2.06-.94 2.06-2.06.94z\"/><path d=\"M17.41 7.96l-1.37-1.37c-.4-.4-.92-.59-1.43-.59-.52 0-1.04.2-1.43.59L10.3 9.45l-7.72 7.72c-.78.78-.78 2.05 0 2.83L4 21.41c.39.39.9.59 1.41.59.51 0 1.02-.2 1.41-.59l7.78-7.78 2.81-2.81c.8-.78.8-2.07 0-2.86zM5.41 20L4 18.59l7.72-7.72 1.47 1.35L5.41 20z\"/>\n",
              "  </svg>\n",
              "      </button>\n",
              "      \n",
              "  <style>\n",
              "    .colab-df-container {\n",
              "      display:flex;\n",
              "      flex-wrap:wrap;\n",
              "      gap: 12px;\n",
              "    }\n",
              "\n",
              "    .colab-df-convert {\n",
              "      background-color: #E8F0FE;\n",
              "      border: none;\n",
              "      border-radius: 50%;\n",
              "      cursor: pointer;\n",
              "      display: none;\n",
              "      fill: #1967D2;\n",
              "      height: 32px;\n",
              "      padding: 0 0 0 0;\n",
              "      width: 32px;\n",
              "    }\n",
              "\n",
              "    .colab-df-convert:hover {\n",
              "      background-color: #E2EBFA;\n",
              "      box-shadow: 0px 1px 2px rgba(60, 64, 67, 0.3), 0px 1px 3px 1px rgba(60, 64, 67, 0.15);\n",
              "      fill: #174EA6;\n",
              "    }\n",
              "\n",
              "    [theme=dark] .colab-df-convert {\n",
              "      background-color: #3B4455;\n",
              "      fill: #D2E3FC;\n",
              "    }\n",
              "\n",
              "    [theme=dark] .colab-df-convert:hover {\n",
              "      background-color: #434B5C;\n",
              "      box-shadow: 0px 1px 3px 1px rgba(0, 0, 0, 0.15);\n",
              "      filter: drop-shadow(0px 1px 2px rgba(0, 0, 0, 0.3));\n",
              "      fill: #FFFFFF;\n",
              "    }\n",
              "  </style>\n",
              "\n",
              "      <script>\n",
              "        const buttonEl =\n",
              "          document.querySelector('#df-74708a2f-902c-46b3-86e3-d4b25976c7dc button.colab-df-convert');\n",
              "        buttonEl.style.display =\n",
              "          google.colab.kernel.accessAllowed ? 'block' : 'none';\n",
              "\n",
              "        async function convertToInteractive(key) {\n",
              "          const element = document.querySelector('#df-74708a2f-902c-46b3-86e3-d4b25976c7dc');\n",
              "          const dataTable =\n",
              "            await google.colab.kernel.invokeFunction('convertToInteractive',\n",
              "                                                     [key], {});\n",
              "          if (!dataTable) return;\n",
              "\n",
              "          const docLinkHtml = 'Like what you see? Visit the ' +\n",
              "            '<a target=\"_blank\" href=https://colab.research.google.com/notebooks/data_table.ipynb>data table notebook</a>'\n",
              "            + ' to learn more about interactive tables.';\n",
              "          element.innerHTML = '';\n",
              "          dataTable['output_type'] = 'display_data';\n",
              "          await google.colab.output.renderOutput(dataTable, element);\n",
              "          const docLink = document.createElement('div');\n",
              "          docLink.innerHTML = docLinkHtml;\n",
              "          element.appendChild(docLink);\n",
              "        }\n",
              "      </script>\n",
              "    </div>\n",
              "  </div>\n",
              "  "
            ]
          },
          "metadata": {},
          "execution_count": 10
        }
      ]
    },
    {
      "cell_type": "code",
      "source": [
        "df.info()"
      ],
      "metadata": {
        "colab": {
          "base_uri": "https://localhost:8080/"
        },
        "id": "IQRmsatx_lDT",
        "outputId": "ae4d122c-49f1-4a16-d021-a1c0f88461fb"
      },
      "execution_count": null,
      "outputs": [
        {
          "output_type": "stream",
          "name": "stdout",
          "text": [
            "<class 'pandas.core.frame.DataFrame'>\n",
            "Int64Index: 4532 entries, 0 to 7384\n",
            "Data columns (total 9 columns):\n",
            " #   Column                          Non-Null Count  Dtype  \n",
            "---  ------                          --------------  -----  \n",
            " 0   engine_size                     4532 non-null   float64\n",
            " 1   cylinders                       4532 non-null   int64  \n",
            " 2   transmission                    4532 non-null   object \n",
            " 3   fuel_type                       4532 non-null   object \n",
            " 4   fuel_consumption_city           4532 non-null   float64\n",
            " 5   fuel_consumption_hwy            4532 non-null   float64\n",
            " 6   fuel_consumption_comb(l/100km)  4532 non-null   float64\n",
            " 7   fuel_consumption_comb(mpg)      4532 non-null   int64  \n",
            " 8   co2_emissions                   4532 non-null   int64  \n",
            "dtypes: float64(4), int64(3), object(2)\n",
            "memory usage: 354.1+ KB\n"
          ]
        }
      ]
    },
    {
      "cell_type": "code",
      "source": [
        "df.corr()['co2_emissions']"
      ],
      "metadata": {
        "colab": {
          "base_uri": "https://localhost:8080/"
        },
        "id": "sbHEcb4WJkgl",
        "outputId": "0a33f50e-6843-4cc7-9975-6ab497ef1ea6"
      },
      "execution_count": null,
      "outputs": [
        {
          "output_type": "execute_result",
          "data": {
            "text/plain": [
              "engine_size                       0.845287\n",
              "cylinders                         0.824823\n",
              "fuel_consumption_city             0.921330\n",
              "fuel_consumption_hwy              0.886953\n",
              "fuel_consumption_comb(l/100km)    0.920384\n",
              "fuel_consumption_comb(mpg)       -0.904799\n",
              "co2_emissions                     1.000000\n",
              "Name: co2_emissions, dtype: float64"
            ]
          },
          "metadata": {},
          "execution_count": 12
        }
      ]
    },
    {
      "cell_type": "code",
      "source": [
        "df.drop('fuel_consumption_comb(mpg)',axis=1,inplace=True)"
      ],
      "metadata": {
        "id": "WvxF-iSPJxtR"
      },
      "execution_count": null,
      "outputs": []
    },
    {
      "cell_type": "code",
      "source": [
        "df.sample(5)"
      ],
      "metadata": {
        "colab": {
          "base_uri": "https://localhost:8080/",
          "height": 250
        },
        "id": "-tKqz4HDJ4f4",
        "outputId": "9d1cad7d-a98f-4485-9ea0-d8d0710fff03"
      },
      "execution_count": null,
      "outputs": [
        {
          "output_type": "execute_result",
          "data": {
            "text/plain": [
              "      engine_size  cylinders                 transmission         fuel_type  \\\n",
              "755           5.5          8  Automatic with select shift  Premium gasoline   \n",
              "6975          2.0          4        Continuously variable  Premium gasoline   \n",
              "3661          5.0          8  Automatic with select shift  Regular gasoline   \n",
              "1484          3.5          6  Automatic with select shift  Regular gasoline   \n",
              "2896          4.6          8  Automatic with select shift  Premium gasoline   \n",
              "\n",
              "      fuel_consumption_city  fuel_consumption_hwy  \\\n",
              "755                    15.5                  11.0   \n",
              "6975                   10.8                   8.3   \n",
              "3661                   15.4                  10.6   \n",
              "1484                   14.6                  10.4   \n",
              "2896                   15.7                  11.7   \n",
              "\n",
              "      fuel_consumption_comb(l/100km)  co2_emissions  \n",
              "755                             13.5            310  \n",
              "6975                             9.7            228  \n",
              "3661                            13.2            310  \n",
              "1484                            12.8            294  \n",
              "2896                            13.9            322  "
            ],
            "text/html": [
              "\n",
              "  <div id=\"df-1a7933a0-d200-4975-ab91-942d570d2cbc\">\n",
              "    <div class=\"colab-df-container\">\n",
              "      <div>\n",
              "<style scoped>\n",
              "    .dataframe tbody tr th:only-of-type {\n",
              "        vertical-align: middle;\n",
              "    }\n",
              "\n",
              "    .dataframe tbody tr th {\n",
              "        vertical-align: top;\n",
              "    }\n",
              "\n",
              "    .dataframe thead th {\n",
              "        text-align: right;\n",
              "    }\n",
              "</style>\n",
              "<table border=\"1\" class=\"dataframe\">\n",
              "  <thead>\n",
              "    <tr style=\"text-align: right;\">\n",
              "      <th></th>\n",
              "      <th>engine_size</th>\n",
              "      <th>cylinders</th>\n",
              "      <th>transmission</th>\n",
              "      <th>fuel_type</th>\n",
              "      <th>fuel_consumption_city</th>\n",
              "      <th>fuel_consumption_hwy</th>\n",
              "      <th>fuel_consumption_comb(l/100km)</th>\n",
              "      <th>co2_emissions</th>\n",
              "    </tr>\n",
              "  </thead>\n",
              "  <tbody>\n",
              "    <tr>\n",
              "      <th>755</th>\n",
              "      <td>5.5</td>\n",
              "      <td>8</td>\n",
              "      <td>Automatic with select shift</td>\n",
              "      <td>Premium gasoline</td>\n",
              "      <td>15.5</td>\n",
              "      <td>11.0</td>\n",
              "      <td>13.5</td>\n",
              "      <td>310</td>\n",
              "    </tr>\n",
              "    <tr>\n",
              "      <th>6975</th>\n",
              "      <td>2.0</td>\n",
              "      <td>4</td>\n",
              "      <td>Continuously variable</td>\n",
              "      <td>Premium gasoline</td>\n",
              "      <td>10.8</td>\n",
              "      <td>8.3</td>\n",
              "      <td>9.7</td>\n",
              "      <td>228</td>\n",
              "    </tr>\n",
              "    <tr>\n",
              "      <th>3661</th>\n",
              "      <td>5.0</td>\n",
              "      <td>8</td>\n",
              "      <td>Automatic with select shift</td>\n",
              "      <td>Regular gasoline</td>\n",
              "      <td>15.4</td>\n",
              "      <td>10.6</td>\n",
              "      <td>13.2</td>\n",
              "      <td>310</td>\n",
              "    </tr>\n",
              "    <tr>\n",
              "      <th>1484</th>\n",
              "      <td>3.5</td>\n",
              "      <td>6</td>\n",
              "      <td>Automatic with select shift</td>\n",
              "      <td>Regular gasoline</td>\n",
              "      <td>14.6</td>\n",
              "      <td>10.4</td>\n",
              "      <td>12.8</td>\n",
              "      <td>294</td>\n",
              "    </tr>\n",
              "    <tr>\n",
              "      <th>2896</th>\n",
              "      <td>4.6</td>\n",
              "      <td>8</td>\n",
              "      <td>Automatic with select shift</td>\n",
              "      <td>Premium gasoline</td>\n",
              "      <td>15.7</td>\n",
              "      <td>11.7</td>\n",
              "      <td>13.9</td>\n",
              "      <td>322</td>\n",
              "    </tr>\n",
              "  </tbody>\n",
              "</table>\n",
              "</div>\n",
              "      <button class=\"colab-df-convert\" onclick=\"convertToInteractive('df-1a7933a0-d200-4975-ab91-942d570d2cbc')\"\n",
              "              title=\"Convert this dataframe to an interactive table.\"\n",
              "              style=\"display:none;\">\n",
              "        \n",
              "  <svg xmlns=\"http://www.w3.org/2000/svg\" height=\"24px\"viewBox=\"0 0 24 24\"\n",
              "       width=\"24px\">\n",
              "    <path d=\"M0 0h24v24H0V0z\" fill=\"none\"/>\n",
              "    <path d=\"M18.56 5.44l.94 2.06.94-2.06 2.06-.94-2.06-.94-.94-2.06-.94 2.06-2.06.94zm-11 1L8.5 8.5l.94-2.06 2.06-.94-2.06-.94L8.5 2.5l-.94 2.06-2.06.94zm10 10l.94 2.06.94-2.06 2.06-.94-2.06-.94-.94-2.06-.94 2.06-2.06.94z\"/><path d=\"M17.41 7.96l-1.37-1.37c-.4-.4-.92-.59-1.43-.59-.52 0-1.04.2-1.43.59L10.3 9.45l-7.72 7.72c-.78.78-.78 2.05 0 2.83L4 21.41c.39.39.9.59 1.41.59.51 0 1.02-.2 1.41-.59l7.78-7.78 2.81-2.81c.8-.78.8-2.07 0-2.86zM5.41 20L4 18.59l7.72-7.72 1.47 1.35L5.41 20z\"/>\n",
              "  </svg>\n",
              "      </button>\n",
              "      \n",
              "  <style>\n",
              "    .colab-df-container {\n",
              "      display:flex;\n",
              "      flex-wrap:wrap;\n",
              "      gap: 12px;\n",
              "    }\n",
              "\n",
              "    .colab-df-convert {\n",
              "      background-color: #E8F0FE;\n",
              "      border: none;\n",
              "      border-radius: 50%;\n",
              "      cursor: pointer;\n",
              "      display: none;\n",
              "      fill: #1967D2;\n",
              "      height: 32px;\n",
              "      padding: 0 0 0 0;\n",
              "      width: 32px;\n",
              "    }\n",
              "\n",
              "    .colab-df-convert:hover {\n",
              "      background-color: #E2EBFA;\n",
              "      box-shadow: 0px 1px 2px rgba(60, 64, 67, 0.3), 0px 1px 3px 1px rgba(60, 64, 67, 0.15);\n",
              "      fill: #174EA6;\n",
              "    }\n",
              "\n",
              "    [theme=dark] .colab-df-convert {\n",
              "      background-color: #3B4455;\n",
              "      fill: #D2E3FC;\n",
              "    }\n",
              "\n",
              "    [theme=dark] .colab-df-convert:hover {\n",
              "      background-color: #434B5C;\n",
              "      box-shadow: 0px 1px 3px 1px rgba(0, 0, 0, 0.15);\n",
              "      filter: drop-shadow(0px 1px 2px rgba(0, 0, 0, 0.3));\n",
              "      fill: #FFFFFF;\n",
              "    }\n",
              "  </style>\n",
              "\n",
              "      <script>\n",
              "        const buttonEl =\n",
              "          document.querySelector('#df-1a7933a0-d200-4975-ab91-942d570d2cbc button.colab-df-convert');\n",
              "        buttonEl.style.display =\n",
              "          google.colab.kernel.accessAllowed ? 'block' : 'none';\n",
              "\n",
              "        async function convertToInteractive(key) {\n",
              "          const element = document.querySelector('#df-1a7933a0-d200-4975-ab91-942d570d2cbc');\n",
              "          const dataTable =\n",
              "            await google.colab.kernel.invokeFunction('convertToInteractive',\n",
              "                                                     [key], {});\n",
              "          if (!dataTable) return;\n",
              "\n",
              "          const docLinkHtml = 'Like what you see? Visit the ' +\n",
              "            '<a target=\"_blank\" href=https://colab.research.google.com/notebooks/data_table.ipynb>data table notebook</a>'\n",
              "            + ' to learn more about interactive tables.';\n",
              "          element.innerHTML = '';\n",
              "          dataTable['output_type'] = 'display_data';\n",
              "          await google.colab.output.renderOutput(dataTable, element);\n",
              "          const docLink = document.createElement('div');\n",
              "          docLink.innerHTML = docLinkHtml;\n",
              "          element.appendChild(docLink);\n",
              "        }\n",
              "      </script>\n",
              "    </div>\n",
              "  </div>\n",
              "  "
            ]
          },
          "metadata": {},
          "execution_count": 14
        }
      ]
    },
    {
      "cell_type": "code",
      "source": [
        "from sklearn.compose import ColumnTransformer\n",
        "from sklearn.preprocessing import OneHotEncoder\n",
        "from sklearn.ensemble import GradientBoostingRegressor\n",
        "from sklearn.pipeline import Pipeline\n",
        "from sklearn.metrics import r2_score"
      ],
      "metadata": {
        "id": "MvEjt9tV8fH7"
      },
      "execution_count": null,
      "outputs": []
    },
    {
      "cell_type": "code",
      "source": [
        "x=df.drop('co2_emissions',axis=1)\n",
        "y=df['co2_emissions']"
      ],
      "metadata": {
        "id": "-M_EQmUJ9K8A"
      },
      "execution_count": null,
      "outputs": []
    },
    {
      "cell_type": "code",
      "source": [
        "from sklearn.model_selection import train_test_split\n",
        "\n",
        "x_train,x_test,y_train,y_test=train_test_split(x,y,test_size=0.2,random_state=7)"
      ],
      "metadata": {
        "id": "3BXuyuY8_ruN"
      },
      "execution_count": null,
      "outputs": []
    },
    {
      "cell_type": "code",
      "source": [
        "x_train"
      ],
      "metadata": {
        "colab": {
          "base_uri": "https://localhost:8080/",
          "height": 424
        },
        "id": "axYccKhUsSrO",
        "outputId": "47a3a64b-464b-42ca-b4f8-631434aa9b4b"
      },
      "execution_count": null,
      "outputs": [
        {
          "output_type": "execute_result",
          "data": {
            "text/plain": [
              "      engine_size  cylinders                 transmission         fuel_type  \\\n",
              "6447          2.5          4        Continuously variable  Regular gasoline   \n",
              "6914          1.5          4                       Manual  Premium gasoline   \n",
              "6790          2.3          4  Automatic with select shift  Regular gasoline   \n",
              "2385          3.6          6  Automatic with select shift  Regular gasoline   \n",
              "5047          5.0          8  Automatic with select shift  Premium gasoline   \n",
              "...           ...        ...                          ...               ...   \n",
              "1462          3.5          6  Automatic with select shift  Regular gasoline   \n",
              "4120          2.0          4                       Manual  Premium gasoline   \n",
              "6674          2.5          4                    Automatic  Regular gasoline   \n",
              "6015          1.3          4                    Automatic  Regular gasoline   \n",
              "5669          1.4          4                       Manual  Regular gasoline   \n",
              "\n",
              "      fuel_consumption_city  fuel_consumption_hwy  \\\n",
              "6447                    5.8                   6.3   \n",
              "6914                    8.9                   6.4   \n",
              "6790                   11.6                   8.7   \n",
              "2385                   12.8                   8.7   \n",
              "5047                   14.7                   9.2   \n",
              "...                     ...                   ...   \n",
              "1462                   14.9                  10.7   \n",
              "4120                   10.8                   7.7   \n",
              "6674                   11.3                   8.9   \n",
              "6015                   10.8                   8.7   \n",
              "5669                    8.0                   6.2   \n",
              "\n",
              "      fuel_consumption_comb(l/100km)  \n",
              "6447                             6.0  \n",
              "6914                             7.8  \n",
              "6790                            10.3  \n",
              "2385                            11.0  \n",
              "5047                            12.2  \n",
              "...                              ...  \n",
              "1462                            13.0  \n",
              "4120                             9.4  \n",
              "6674                            10.2  \n",
              "6015                             9.9  \n",
              "5669                             7.2  \n",
              "\n",
              "[3625 rows x 7 columns]"
            ],
            "text/html": [
              "\n",
              "  <div id=\"df-95fd27d7-f09f-4f91-8d78-66b745aa1276\">\n",
              "    <div class=\"colab-df-container\">\n",
              "      <div>\n",
              "<style scoped>\n",
              "    .dataframe tbody tr th:only-of-type {\n",
              "        vertical-align: middle;\n",
              "    }\n",
              "\n",
              "    .dataframe tbody tr th {\n",
              "        vertical-align: top;\n",
              "    }\n",
              "\n",
              "    .dataframe thead th {\n",
              "        text-align: right;\n",
              "    }\n",
              "</style>\n",
              "<table border=\"1\" class=\"dataframe\">\n",
              "  <thead>\n",
              "    <tr style=\"text-align: right;\">\n",
              "      <th></th>\n",
              "      <th>engine_size</th>\n",
              "      <th>cylinders</th>\n",
              "      <th>transmission</th>\n",
              "      <th>fuel_type</th>\n",
              "      <th>fuel_consumption_city</th>\n",
              "      <th>fuel_consumption_hwy</th>\n",
              "      <th>fuel_consumption_comb(l/100km)</th>\n",
              "    </tr>\n",
              "  </thead>\n",
              "  <tbody>\n",
              "    <tr>\n",
              "      <th>6447</th>\n",
              "      <td>2.5</td>\n",
              "      <td>4</td>\n",
              "      <td>Continuously variable</td>\n",
              "      <td>Regular gasoline</td>\n",
              "      <td>5.8</td>\n",
              "      <td>6.3</td>\n",
              "      <td>6.0</td>\n",
              "    </tr>\n",
              "    <tr>\n",
              "      <th>6914</th>\n",
              "      <td>1.5</td>\n",
              "      <td>4</td>\n",
              "      <td>Manual</td>\n",
              "      <td>Premium gasoline</td>\n",
              "      <td>8.9</td>\n",
              "      <td>6.4</td>\n",
              "      <td>7.8</td>\n",
              "    </tr>\n",
              "    <tr>\n",
              "      <th>6790</th>\n",
              "      <td>2.3</td>\n",
              "      <td>4</td>\n",
              "      <td>Automatic with select shift</td>\n",
              "      <td>Regular gasoline</td>\n",
              "      <td>11.6</td>\n",
              "      <td>8.7</td>\n",
              "      <td>10.3</td>\n",
              "    </tr>\n",
              "    <tr>\n",
              "      <th>2385</th>\n",
              "      <td>3.6</td>\n",
              "      <td>6</td>\n",
              "      <td>Automatic with select shift</td>\n",
              "      <td>Regular gasoline</td>\n",
              "      <td>12.8</td>\n",
              "      <td>8.7</td>\n",
              "      <td>11.0</td>\n",
              "    </tr>\n",
              "    <tr>\n",
              "      <th>5047</th>\n",
              "      <td>5.0</td>\n",
              "      <td>8</td>\n",
              "      <td>Automatic with select shift</td>\n",
              "      <td>Premium gasoline</td>\n",
              "      <td>14.7</td>\n",
              "      <td>9.2</td>\n",
              "      <td>12.2</td>\n",
              "    </tr>\n",
              "    <tr>\n",
              "      <th>...</th>\n",
              "      <td>...</td>\n",
              "      <td>...</td>\n",
              "      <td>...</td>\n",
              "      <td>...</td>\n",
              "      <td>...</td>\n",
              "      <td>...</td>\n",
              "      <td>...</td>\n",
              "    </tr>\n",
              "    <tr>\n",
              "      <th>1462</th>\n",
              "      <td>3.5</td>\n",
              "      <td>6</td>\n",
              "      <td>Automatic with select shift</td>\n",
              "      <td>Regular gasoline</td>\n",
              "      <td>14.9</td>\n",
              "      <td>10.7</td>\n",
              "      <td>13.0</td>\n",
              "    </tr>\n",
              "    <tr>\n",
              "      <th>4120</th>\n",
              "      <td>2.0</td>\n",
              "      <td>4</td>\n",
              "      <td>Manual</td>\n",
              "      <td>Premium gasoline</td>\n",
              "      <td>10.8</td>\n",
              "      <td>7.7</td>\n",
              "      <td>9.4</td>\n",
              "    </tr>\n",
              "    <tr>\n",
              "      <th>6674</th>\n",
              "      <td>2.5</td>\n",
              "      <td>4</td>\n",
              "      <td>Automatic</td>\n",
              "      <td>Regular gasoline</td>\n",
              "      <td>11.3</td>\n",
              "      <td>8.9</td>\n",
              "      <td>10.2</td>\n",
              "    </tr>\n",
              "    <tr>\n",
              "      <th>6015</th>\n",
              "      <td>1.3</td>\n",
              "      <td>4</td>\n",
              "      <td>Automatic</td>\n",
              "      <td>Regular gasoline</td>\n",
              "      <td>10.8</td>\n",
              "      <td>8.7</td>\n",
              "      <td>9.9</td>\n",
              "    </tr>\n",
              "    <tr>\n",
              "      <th>5669</th>\n",
              "      <td>1.4</td>\n",
              "      <td>4</td>\n",
              "      <td>Manual</td>\n",
              "      <td>Regular gasoline</td>\n",
              "      <td>8.0</td>\n",
              "      <td>6.2</td>\n",
              "      <td>7.2</td>\n",
              "    </tr>\n",
              "  </tbody>\n",
              "</table>\n",
              "<p>3625 rows × 7 columns</p>\n",
              "</div>\n",
              "      <button class=\"colab-df-convert\" onclick=\"convertToInteractive('df-95fd27d7-f09f-4f91-8d78-66b745aa1276')\"\n",
              "              title=\"Convert this dataframe to an interactive table.\"\n",
              "              style=\"display:none;\">\n",
              "        \n",
              "  <svg xmlns=\"http://www.w3.org/2000/svg\" height=\"24px\"viewBox=\"0 0 24 24\"\n",
              "       width=\"24px\">\n",
              "    <path d=\"M0 0h24v24H0V0z\" fill=\"none\"/>\n",
              "    <path d=\"M18.56 5.44l.94 2.06.94-2.06 2.06-.94-2.06-.94-.94-2.06-.94 2.06-2.06.94zm-11 1L8.5 8.5l.94-2.06 2.06-.94-2.06-.94L8.5 2.5l-.94 2.06-2.06.94zm10 10l.94 2.06.94-2.06 2.06-.94-2.06-.94-.94-2.06-.94 2.06-2.06.94z\"/><path d=\"M17.41 7.96l-1.37-1.37c-.4-.4-.92-.59-1.43-.59-.52 0-1.04.2-1.43.59L10.3 9.45l-7.72 7.72c-.78.78-.78 2.05 0 2.83L4 21.41c.39.39.9.59 1.41.59.51 0 1.02-.2 1.41-.59l7.78-7.78 2.81-2.81c.8-.78.8-2.07 0-2.86zM5.41 20L4 18.59l7.72-7.72 1.47 1.35L5.41 20z\"/>\n",
              "  </svg>\n",
              "      </button>\n",
              "      \n",
              "  <style>\n",
              "    .colab-df-container {\n",
              "      display:flex;\n",
              "      flex-wrap:wrap;\n",
              "      gap: 12px;\n",
              "    }\n",
              "\n",
              "    .colab-df-convert {\n",
              "      background-color: #E8F0FE;\n",
              "      border: none;\n",
              "      border-radius: 50%;\n",
              "      cursor: pointer;\n",
              "      display: none;\n",
              "      fill: #1967D2;\n",
              "      height: 32px;\n",
              "      padding: 0 0 0 0;\n",
              "      width: 32px;\n",
              "    }\n",
              "\n",
              "    .colab-df-convert:hover {\n",
              "      background-color: #E2EBFA;\n",
              "      box-shadow: 0px 1px 2px rgba(60, 64, 67, 0.3), 0px 1px 3px 1px rgba(60, 64, 67, 0.15);\n",
              "      fill: #174EA6;\n",
              "    }\n",
              "\n",
              "    [theme=dark] .colab-df-convert {\n",
              "      background-color: #3B4455;\n",
              "      fill: #D2E3FC;\n",
              "    }\n",
              "\n",
              "    [theme=dark] .colab-df-convert:hover {\n",
              "      background-color: #434B5C;\n",
              "      box-shadow: 0px 1px 3px 1px rgba(0, 0, 0, 0.15);\n",
              "      filter: drop-shadow(0px 1px 2px rgba(0, 0, 0, 0.3));\n",
              "      fill: #FFFFFF;\n",
              "    }\n",
              "  </style>\n",
              "\n",
              "      <script>\n",
              "        const buttonEl =\n",
              "          document.querySelector('#df-95fd27d7-f09f-4f91-8d78-66b745aa1276 button.colab-df-convert');\n",
              "        buttonEl.style.display =\n",
              "          google.colab.kernel.accessAllowed ? 'block' : 'none';\n",
              "\n",
              "        async function convertToInteractive(key) {\n",
              "          const element = document.querySelector('#df-95fd27d7-f09f-4f91-8d78-66b745aa1276');\n",
              "          const dataTable =\n",
              "            await google.colab.kernel.invokeFunction('convertToInteractive',\n",
              "                                                     [key], {});\n",
              "          if (!dataTable) return;\n",
              "\n",
              "          const docLinkHtml = 'Like what you see? Visit the ' +\n",
              "            '<a target=\"_blank\" href=https://colab.research.google.com/notebooks/data_table.ipynb>data table notebook</a>'\n",
              "            + ' to learn more about interactive tables.';\n",
              "          element.innerHTML = '';\n",
              "          dataTable['output_type'] = 'display_data';\n",
              "          await google.colab.output.renderOutput(dataTable, element);\n",
              "          const docLink = document.createElement('div');\n",
              "          docLink.innerHTML = docLinkHtml;\n",
              "          element.appendChild(docLink);\n",
              "        }\n",
              "      </script>\n",
              "    </div>\n",
              "  </div>\n",
              "  "
            ]
          },
          "metadata": {},
          "execution_count": 24
        }
      ]
    },
    {
      "cell_type": "code",
      "source": [
        "x_train['engine_size'].unique()"
      ],
      "metadata": {
        "colab": {
          "base_uri": "https://localhost:8080/"
        },
        "id": "PR56VOibtOA8",
        "outputId": "d57948b5-ea13-44d2-ac6a-0240d79e7143"
      },
      "execution_count": null,
      "outputs": [
        {
          "output_type": "execute_result",
          "data": {
            "text/plain": [
              "array([1.8, 3. , 2. , 5.3, 3.3, 2.5, 4. , 3.5, 5.7, 2.4, 5.4, 1.5, 5.8,\n",
              "       6.2, 5.5, 2.7, 1.4, 4.4, 1.6, 3.6, 6.8, 3.7, 4.8, 2.3, 4.3, 5.6,\n",
              "       3.8, 3.2, 4.7, 5.2, 6.3, 2.8, 5. , 6.5, 3.4, 6. , 2.1, 1.2, 2.9,\n",
              "       6.7, 6.6, 4.6, 6.4, 4.2, 1. , 1.3, 0.9, 8.4, 2.2, 5.9])"
            ]
          },
          "metadata": {},
          "execution_count": 19
        }
      ]
    },
    {
      "cell_type": "code",
      "source": [
        "#OneHotEncoder on categorical column\n",
        "p1=ColumnTransformer(transformers=[\n",
        "                         ('t1',OneHotEncoder(drop='first',sparse=False,handle_unknown='ignore'),[2,3]),\n",
        "                                 \n",
        "],remainder='passthrough')\n",
        "\n",
        "\n",
        "#MinMaxScaler on all the columns\n",
        "# p2=ColumnTransformer(transformers=[\n",
        "#                          ('t2',MinMaxScaler(),slice(0,10))  ,\n",
        "# ],remainder='passthrough')\n",
        "\n",
        "\n",
        "#model\n",
        "p3=GradientBoostingRegressor()\n",
        "\n",
        "#Creating pipeline\n",
        "pipe=Pipeline([\n",
        "               ('p1',p1),\n",
        "              #  ('p2',p2),\n",
        "               ('p3',p3)\n",
        "])\n",
        "\n",
        "#Model training and finding the accuracy\n",
        "pipe.fit(x_train,y_train)\n",
        "pred=pipe.predict(x_test)\n",
        "GB_acc=r2_score(y_test,pred)\n",
        "print('GB Accuracy ',GB_acc)"
      ],
      "metadata": {
        "colab": {
          "base_uri": "https://localhost:8080/"
        },
        "id": "0jnSaqKv8O3l",
        "outputId": "e5de1dfa-5d71-46af-c320-593b5c03baf2"
      },
      "execution_count": null,
      "outputs": [
        {
          "output_type": "stream",
          "name": "stdout",
          "text": [
            "GB Accuracy  0.9947643472831104\n"
          ]
        }
      ]
    },
    {
      "cell_type": "code",
      "source": [
        "pred_train=pipe.predict(x_train)\n",
        "r2_score(y_train,pred_train)"
      ],
      "metadata": {
        "colab": {
          "base_uri": "https://localhost:8080/"
        },
        "id": "QEEuEtairG8A",
        "outputId": "558bbfec-15f3-486d-94db-d177e739db40"
      },
      "execution_count": null,
      "outputs": [
        {
          "output_type": "execute_result",
          "data": {
            "text/plain": [
              "0.9957542899468883"
            ]
          },
          "metadata": {},
          "execution_count": 29
        }
      ]
    },
    {
      "cell_type": "code",
      "source": [
        "import pickle\n",
        "\n",
        "pickle.dump(df,open('df.pkl','wb'))\n",
        "pickle.dump(pipe,open('pipe.pkl','wb'))"
      ],
      "metadata": {
        "id": "HpcyPjxk8O1P"
      },
      "execution_count": null,
      "outputs": []
    },
    {
      "cell_type": "code",
      "source": [
        "df.columns"
      ],
      "metadata": {
        "id": "kSVBZQFk8Oyq",
        "colab": {
          "base_uri": "https://localhost:8080/"
        },
        "outputId": "ddacdcfa-2f21-4ef8-ea60-eaa2e5f42191"
      },
      "execution_count": null,
      "outputs": [
        {
          "output_type": "execute_result",
          "data": {
            "text/plain": [
              "Index(['engine_size', 'cylinders', 'transmission', 'fuel_type',\n",
              "       'fuel_consumption_city', 'fuel_consumption_hwy',\n",
              "       'fuel_consumption_comb(l/100km)', 'co2_emissions'],\n",
              "      dtype='object')"
            ]
          },
          "metadata": {},
          "execution_count": 18
        }
      ]
    },
    {
      "cell_type": "code",
      "source": [
        "df['cylinders'].unique().sort()"
      ],
      "metadata": {
        "id": "ETJTxSBc8OwF"
      },
      "execution_count": null,
      "outputs": []
    },
    {
      "cell_type": "code",
      "source": [
        "sorted(df['cylinders'].unique().tolist())"
      ],
      "metadata": {
        "id": "KZhfiKpA8Oth"
      },
      "execution_count": null,
      "outputs": []
    },
    {
      "cell_type": "code",
      "source": [
        "sorted(df['transmission'].unique())"
      ],
      "metadata": {
        "id": "oPLeD_Zh8OrE"
      },
      "execution_count": null,
      "outputs": []
    },
    {
      "cell_type": "code",
      "source": [
        "df"
      ],
      "metadata": {
        "id": "2JGOz9Hm8OoZ"
      },
      "execution_count": null,
      "outputs": []
    }
  ]
}