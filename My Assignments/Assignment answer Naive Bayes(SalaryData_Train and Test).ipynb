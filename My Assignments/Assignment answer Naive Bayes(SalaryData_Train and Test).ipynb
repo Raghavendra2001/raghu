{
 "cells": [
  {
   "cell_type": "code",
   "execution_count": 58,
   "id": "adab21e3",
   "metadata": {
    "ExecuteTime": {
     "end_time": "2022-03-02T18:41:03.654761Z",
     "start_time": "2022-03-02T18:41:03.638762Z"
    }
   },
   "outputs": [],
   "source": [
    "import pandas as pd\n",
    "import numpy as np\n",
    "import seaborn as sns\n",
    "import matplotlib.pyplot as plt\n",
    "from sklearn import metrics\n",
    "from sklearn.preprocessing import LabelEncoder\n",
    "from sklearn.model_selection import train_test_split, cross_val_score\n",
    "from sklearn.naive_bayes import MultinomialNB as MB\n",
    "from sklearn.naive_bayes import GaussianNB as GB"
   ]
  },
  {
   "cell_type": "code",
   "execution_count": 60,
   "id": "2f21d6a9",
   "metadata": {
    "ExecuteTime": {
     "end_time": "2022-03-02T18:41:16.123946Z",
     "start_time": "2022-03-02T18:41:15.809948Z"
    }
   },
   "outputs": [],
   "source": [
    "train_data = pd.read_csv('SalaryData_Train.csv')\n",
    "test_data = pd.read_csv('SalaryData_Test.csv')"
   ]
  },
  {
   "cell_type": "code",
   "execution_count": 61,
   "id": "835d578a",
   "metadata": {
    "ExecuteTime": {
     "end_time": "2022-03-02T18:41:18.357584Z",
     "start_time": "2022-03-02T18:41:18.293576Z"
    }
   },
   "outputs": [
    {
     "data": {
      "text/html": [
       "<div>\n",
       "<style scoped>\n",
       "    .dataframe tbody tr th:only-of-type {\n",
       "        vertical-align: middle;\n",
       "    }\n",
       "\n",
       "    .dataframe tbody tr th {\n",
       "        vertical-align: top;\n",
       "    }\n",
       "\n",
       "    .dataframe thead th {\n",
       "        text-align: right;\n",
       "    }\n",
       "</style>\n",
       "<table border=\"1\" class=\"dataframe\">\n",
       "  <thead>\n",
       "    <tr style=\"text-align: right;\">\n",
       "      <th></th>\n",
       "      <th>age</th>\n",
       "      <th>workclass</th>\n",
       "      <th>education</th>\n",
       "      <th>educationno</th>\n",
       "      <th>maritalstatus</th>\n",
       "      <th>occupation</th>\n",
       "      <th>relationship</th>\n",
       "      <th>race</th>\n",
       "      <th>sex</th>\n",
       "      <th>capitalgain</th>\n",
       "      <th>capitalloss</th>\n",
       "      <th>hoursperweek</th>\n",
       "      <th>native</th>\n",
       "      <th>Salary</th>\n",
       "    </tr>\n",
       "  </thead>\n",
       "  <tbody>\n",
       "    <tr>\n",
       "      <th>0</th>\n",
       "      <td>39</td>\n",
       "      <td>State-gov</td>\n",
       "      <td>Bachelors</td>\n",
       "      <td>13</td>\n",
       "      <td>Never-married</td>\n",
       "      <td>Adm-clerical</td>\n",
       "      <td>Not-in-family</td>\n",
       "      <td>White</td>\n",
       "      <td>Male</td>\n",
       "      <td>2174</td>\n",
       "      <td>0</td>\n",
       "      <td>40</td>\n",
       "      <td>United-States</td>\n",
       "      <td>&lt;=50K</td>\n",
       "    </tr>\n",
       "    <tr>\n",
       "      <th>1</th>\n",
       "      <td>50</td>\n",
       "      <td>Self-emp-not-inc</td>\n",
       "      <td>Bachelors</td>\n",
       "      <td>13</td>\n",
       "      <td>Married-civ-spouse</td>\n",
       "      <td>Exec-managerial</td>\n",
       "      <td>Husband</td>\n",
       "      <td>White</td>\n",
       "      <td>Male</td>\n",
       "      <td>0</td>\n",
       "      <td>0</td>\n",
       "      <td>13</td>\n",
       "      <td>United-States</td>\n",
       "      <td>&lt;=50K</td>\n",
       "    </tr>\n",
       "    <tr>\n",
       "      <th>2</th>\n",
       "      <td>38</td>\n",
       "      <td>Private</td>\n",
       "      <td>HS-grad</td>\n",
       "      <td>9</td>\n",
       "      <td>Divorced</td>\n",
       "      <td>Handlers-cleaners</td>\n",
       "      <td>Not-in-family</td>\n",
       "      <td>White</td>\n",
       "      <td>Male</td>\n",
       "      <td>0</td>\n",
       "      <td>0</td>\n",
       "      <td>40</td>\n",
       "      <td>United-States</td>\n",
       "      <td>&lt;=50K</td>\n",
       "    </tr>\n",
       "    <tr>\n",
       "      <th>3</th>\n",
       "      <td>53</td>\n",
       "      <td>Private</td>\n",
       "      <td>11th</td>\n",
       "      <td>7</td>\n",
       "      <td>Married-civ-spouse</td>\n",
       "      <td>Handlers-cleaners</td>\n",
       "      <td>Husband</td>\n",
       "      <td>Black</td>\n",
       "      <td>Male</td>\n",
       "      <td>0</td>\n",
       "      <td>0</td>\n",
       "      <td>40</td>\n",
       "      <td>United-States</td>\n",
       "      <td>&lt;=50K</td>\n",
       "    </tr>\n",
       "    <tr>\n",
       "      <th>4</th>\n",
       "      <td>28</td>\n",
       "      <td>Private</td>\n",
       "      <td>Bachelors</td>\n",
       "      <td>13</td>\n",
       "      <td>Married-civ-spouse</td>\n",
       "      <td>Prof-specialty</td>\n",
       "      <td>Wife</td>\n",
       "      <td>Black</td>\n",
       "      <td>Female</td>\n",
       "      <td>0</td>\n",
       "      <td>0</td>\n",
       "      <td>40</td>\n",
       "      <td>Cuba</td>\n",
       "      <td>&lt;=50K</td>\n",
       "    </tr>\n",
       "    <tr>\n",
       "      <th>...</th>\n",
       "      <td>...</td>\n",
       "      <td>...</td>\n",
       "      <td>...</td>\n",
       "      <td>...</td>\n",
       "      <td>...</td>\n",
       "      <td>...</td>\n",
       "      <td>...</td>\n",
       "      <td>...</td>\n",
       "      <td>...</td>\n",
       "      <td>...</td>\n",
       "      <td>...</td>\n",
       "      <td>...</td>\n",
       "      <td>...</td>\n",
       "      <td>...</td>\n",
       "    </tr>\n",
       "    <tr>\n",
       "      <th>30156</th>\n",
       "      <td>27</td>\n",
       "      <td>Private</td>\n",
       "      <td>Assoc-acdm</td>\n",
       "      <td>12</td>\n",
       "      <td>Married-civ-spouse</td>\n",
       "      <td>Tech-support</td>\n",
       "      <td>Wife</td>\n",
       "      <td>White</td>\n",
       "      <td>Female</td>\n",
       "      <td>0</td>\n",
       "      <td>0</td>\n",
       "      <td>38</td>\n",
       "      <td>United-States</td>\n",
       "      <td>&lt;=50K</td>\n",
       "    </tr>\n",
       "    <tr>\n",
       "      <th>30157</th>\n",
       "      <td>40</td>\n",
       "      <td>Private</td>\n",
       "      <td>HS-grad</td>\n",
       "      <td>9</td>\n",
       "      <td>Married-civ-spouse</td>\n",
       "      <td>Machine-op-inspct</td>\n",
       "      <td>Husband</td>\n",
       "      <td>White</td>\n",
       "      <td>Male</td>\n",
       "      <td>0</td>\n",
       "      <td>0</td>\n",
       "      <td>40</td>\n",
       "      <td>United-States</td>\n",
       "      <td>&gt;50K</td>\n",
       "    </tr>\n",
       "    <tr>\n",
       "      <th>30158</th>\n",
       "      <td>58</td>\n",
       "      <td>Private</td>\n",
       "      <td>HS-grad</td>\n",
       "      <td>9</td>\n",
       "      <td>Widowed</td>\n",
       "      <td>Adm-clerical</td>\n",
       "      <td>Unmarried</td>\n",
       "      <td>White</td>\n",
       "      <td>Female</td>\n",
       "      <td>0</td>\n",
       "      <td>0</td>\n",
       "      <td>40</td>\n",
       "      <td>United-States</td>\n",
       "      <td>&lt;=50K</td>\n",
       "    </tr>\n",
       "    <tr>\n",
       "      <th>30159</th>\n",
       "      <td>22</td>\n",
       "      <td>Private</td>\n",
       "      <td>HS-grad</td>\n",
       "      <td>9</td>\n",
       "      <td>Never-married</td>\n",
       "      <td>Adm-clerical</td>\n",
       "      <td>Own-child</td>\n",
       "      <td>White</td>\n",
       "      <td>Male</td>\n",
       "      <td>0</td>\n",
       "      <td>0</td>\n",
       "      <td>20</td>\n",
       "      <td>United-States</td>\n",
       "      <td>&lt;=50K</td>\n",
       "    </tr>\n",
       "    <tr>\n",
       "      <th>30160</th>\n",
       "      <td>52</td>\n",
       "      <td>Self-emp-inc</td>\n",
       "      <td>HS-grad</td>\n",
       "      <td>9</td>\n",
       "      <td>Married-civ-spouse</td>\n",
       "      <td>Exec-managerial</td>\n",
       "      <td>Wife</td>\n",
       "      <td>White</td>\n",
       "      <td>Female</td>\n",
       "      <td>15024</td>\n",
       "      <td>0</td>\n",
       "      <td>40</td>\n",
       "      <td>United-States</td>\n",
       "      <td>&gt;50K</td>\n",
       "    </tr>\n",
       "  </tbody>\n",
       "</table>\n",
       "<p>30161 rows × 14 columns</p>\n",
       "</div>"
      ],
      "text/plain": [
       "       age          workclass    education  educationno        maritalstatus  \\\n",
       "0       39          State-gov    Bachelors           13        Never-married   \n",
       "1       50   Self-emp-not-inc    Bachelors           13   Married-civ-spouse   \n",
       "2       38            Private      HS-grad            9             Divorced   \n",
       "3       53            Private         11th            7   Married-civ-spouse   \n",
       "4       28            Private    Bachelors           13   Married-civ-spouse   \n",
       "...    ...                ...          ...          ...                  ...   \n",
       "30156   27            Private   Assoc-acdm           12   Married-civ-spouse   \n",
       "30157   40            Private      HS-grad            9   Married-civ-spouse   \n",
       "30158   58            Private      HS-grad            9              Widowed   \n",
       "30159   22            Private      HS-grad            9        Never-married   \n",
       "30160   52       Self-emp-inc      HS-grad            9   Married-civ-spouse   \n",
       "\n",
       "               occupation    relationship    race      sex  capitalgain  \\\n",
       "0            Adm-clerical   Not-in-family   White     Male         2174   \n",
       "1         Exec-managerial         Husband   White     Male            0   \n",
       "2       Handlers-cleaners   Not-in-family   White     Male            0   \n",
       "3       Handlers-cleaners         Husband   Black     Male            0   \n",
       "4          Prof-specialty            Wife   Black   Female            0   \n",
       "...                   ...             ...     ...      ...          ...   \n",
       "30156        Tech-support            Wife   White   Female            0   \n",
       "30157   Machine-op-inspct         Husband   White     Male            0   \n",
       "30158        Adm-clerical       Unmarried   White   Female            0   \n",
       "30159        Adm-clerical       Own-child   White     Male            0   \n",
       "30160     Exec-managerial            Wife   White   Female        15024   \n",
       "\n",
       "       capitalloss  hoursperweek          native  Salary  \n",
       "0                0            40   United-States   <=50K  \n",
       "1                0            13   United-States   <=50K  \n",
       "2                0            40   United-States   <=50K  \n",
       "3                0            40   United-States   <=50K  \n",
       "4                0            40            Cuba   <=50K  \n",
       "...            ...           ...             ...     ...  \n",
       "30156            0            38   United-States   <=50K  \n",
       "30157            0            40   United-States    >50K  \n",
       "30158            0            40   United-States   <=50K  \n",
       "30159            0            20   United-States   <=50K  \n",
       "30160            0            40   United-States    >50K  \n",
       "\n",
       "[30161 rows x 14 columns]"
      ]
     },
     "execution_count": 61,
     "metadata": {},
     "output_type": "execute_result"
    }
   ],
   "source": [
    "train_data"
   ]
  },
  {
   "cell_type": "code",
   "execution_count": 62,
   "id": "55044a67",
   "metadata": {
    "ExecuteTime": {
     "end_time": "2022-03-02T18:41:21.392153Z",
     "start_time": "2022-03-02T18:41:21.296142Z"
    }
   },
   "outputs": [
    {
     "data": {
      "text/html": [
       "<div>\n",
       "<style scoped>\n",
       "    .dataframe tbody tr th:only-of-type {\n",
       "        vertical-align: middle;\n",
       "    }\n",
       "\n",
       "    .dataframe tbody tr th {\n",
       "        vertical-align: top;\n",
       "    }\n",
       "\n",
       "    .dataframe thead th {\n",
       "        text-align: right;\n",
       "    }\n",
       "</style>\n",
       "<table border=\"1\" class=\"dataframe\">\n",
       "  <thead>\n",
       "    <tr style=\"text-align: right;\">\n",
       "      <th></th>\n",
       "      <th>age</th>\n",
       "      <th>workclass</th>\n",
       "      <th>education</th>\n",
       "      <th>educationno</th>\n",
       "      <th>maritalstatus</th>\n",
       "      <th>occupation</th>\n",
       "      <th>relationship</th>\n",
       "      <th>race</th>\n",
       "      <th>sex</th>\n",
       "      <th>capitalgain</th>\n",
       "      <th>capitalloss</th>\n",
       "      <th>hoursperweek</th>\n",
       "      <th>native</th>\n",
       "      <th>Salary</th>\n",
       "    </tr>\n",
       "  </thead>\n",
       "  <tbody>\n",
       "    <tr>\n",
       "      <th>0</th>\n",
       "      <td>25</td>\n",
       "      <td>Private</td>\n",
       "      <td>11th</td>\n",
       "      <td>7</td>\n",
       "      <td>Never-married</td>\n",
       "      <td>Machine-op-inspct</td>\n",
       "      <td>Own-child</td>\n",
       "      <td>Black</td>\n",
       "      <td>Male</td>\n",
       "      <td>0</td>\n",
       "      <td>0</td>\n",
       "      <td>40</td>\n",
       "      <td>United-States</td>\n",
       "      <td>&lt;=50K</td>\n",
       "    </tr>\n",
       "    <tr>\n",
       "      <th>1</th>\n",
       "      <td>38</td>\n",
       "      <td>Private</td>\n",
       "      <td>HS-grad</td>\n",
       "      <td>9</td>\n",
       "      <td>Married-civ-spouse</td>\n",
       "      <td>Farming-fishing</td>\n",
       "      <td>Husband</td>\n",
       "      <td>White</td>\n",
       "      <td>Male</td>\n",
       "      <td>0</td>\n",
       "      <td>0</td>\n",
       "      <td>50</td>\n",
       "      <td>United-States</td>\n",
       "      <td>&lt;=50K</td>\n",
       "    </tr>\n",
       "    <tr>\n",
       "      <th>2</th>\n",
       "      <td>28</td>\n",
       "      <td>Local-gov</td>\n",
       "      <td>Assoc-acdm</td>\n",
       "      <td>12</td>\n",
       "      <td>Married-civ-spouse</td>\n",
       "      <td>Protective-serv</td>\n",
       "      <td>Husband</td>\n",
       "      <td>White</td>\n",
       "      <td>Male</td>\n",
       "      <td>0</td>\n",
       "      <td>0</td>\n",
       "      <td>40</td>\n",
       "      <td>United-States</td>\n",
       "      <td>&gt;50K</td>\n",
       "    </tr>\n",
       "    <tr>\n",
       "      <th>3</th>\n",
       "      <td>44</td>\n",
       "      <td>Private</td>\n",
       "      <td>Some-college</td>\n",
       "      <td>10</td>\n",
       "      <td>Married-civ-spouse</td>\n",
       "      <td>Machine-op-inspct</td>\n",
       "      <td>Husband</td>\n",
       "      <td>Black</td>\n",
       "      <td>Male</td>\n",
       "      <td>7688</td>\n",
       "      <td>0</td>\n",
       "      <td>40</td>\n",
       "      <td>United-States</td>\n",
       "      <td>&gt;50K</td>\n",
       "    </tr>\n",
       "    <tr>\n",
       "      <th>4</th>\n",
       "      <td>34</td>\n",
       "      <td>Private</td>\n",
       "      <td>10th</td>\n",
       "      <td>6</td>\n",
       "      <td>Never-married</td>\n",
       "      <td>Other-service</td>\n",
       "      <td>Not-in-family</td>\n",
       "      <td>White</td>\n",
       "      <td>Male</td>\n",
       "      <td>0</td>\n",
       "      <td>0</td>\n",
       "      <td>30</td>\n",
       "      <td>United-States</td>\n",
       "      <td>&lt;=50K</td>\n",
       "    </tr>\n",
       "    <tr>\n",
       "      <th>...</th>\n",
       "      <td>...</td>\n",
       "      <td>...</td>\n",
       "      <td>...</td>\n",
       "      <td>...</td>\n",
       "      <td>...</td>\n",
       "      <td>...</td>\n",
       "      <td>...</td>\n",
       "      <td>...</td>\n",
       "      <td>...</td>\n",
       "      <td>...</td>\n",
       "      <td>...</td>\n",
       "      <td>...</td>\n",
       "      <td>...</td>\n",
       "      <td>...</td>\n",
       "    </tr>\n",
       "    <tr>\n",
       "      <th>15055</th>\n",
       "      <td>33</td>\n",
       "      <td>Private</td>\n",
       "      <td>Bachelors</td>\n",
       "      <td>13</td>\n",
       "      <td>Never-married</td>\n",
       "      <td>Prof-specialty</td>\n",
       "      <td>Own-child</td>\n",
       "      <td>White</td>\n",
       "      <td>Male</td>\n",
       "      <td>0</td>\n",
       "      <td>0</td>\n",
       "      <td>40</td>\n",
       "      <td>United-States</td>\n",
       "      <td>&lt;=50K</td>\n",
       "    </tr>\n",
       "    <tr>\n",
       "      <th>15056</th>\n",
       "      <td>39</td>\n",
       "      <td>Private</td>\n",
       "      <td>Bachelors</td>\n",
       "      <td>13</td>\n",
       "      <td>Divorced</td>\n",
       "      <td>Prof-specialty</td>\n",
       "      <td>Not-in-family</td>\n",
       "      <td>White</td>\n",
       "      <td>Female</td>\n",
       "      <td>0</td>\n",
       "      <td>0</td>\n",
       "      <td>36</td>\n",
       "      <td>United-States</td>\n",
       "      <td>&lt;=50K</td>\n",
       "    </tr>\n",
       "    <tr>\n",
       "      <th>15057</th>\n",
       "      <td>38</td>\n",
       "      <td>Private</td>\n",
       "      <td>Bachelors</td>\n",
       "      <td>13</td>\n",
       "      <td>Married-civ-spouse</td>\n",
       "      <td>Prof-specialty</td>\n",
       "      <td>Husband</td>\n",
       "      <td>White</td>\n",
       "      <td>Male</td>\n",
       "      <td>0</td>\n",
       "      <td>0</td>\n",
       "      <td>50</td>\n",
       "      <td>United-States</td>\n",
       "      <td>&lt;=50K</td>\n",
       "    </tr>\n",
       "    <tr>\n",
       "      <th>15058</th>\n",
       "      <td>44</td>\n",
       "      <td>Private</td>\n",
       "      <td>Bachelors</td>\n",
       "      <td>13</td>\n",
       "      <td>Divorced</td>\n",
       "      <td>Adm-clerical</td>\n",
       "      <td>Own-child</td>\n",
       "      <td>Asian-Pac-Islander</td>\n",
       "      <td>Male</td>\n",
       "      <td>5455</td>\n",
       "      <td>0</td>\n",
       "      <td>40</td>\n",
       "      <td>United-States</td>\n",
       "      <td>&lt;=50K</td>\n",
       "    </tr>\n",
       "    <tr>\n",
       "      <th>15059</th>\n",
       "      <td>35</td>\n",
       "      <td>Self-emp-inc</td>\n",
       "      <td>Bachelors</td>\n",
       "      <td>13</td>\n",
       "      <td>Married-civ-spouse</td>\n",
       "      <td>Exec-managerial</td>\n",
       "      <td>Husband</td>\n",
       "      <td>White</td>\n",
       "      <td>Male</td>\n",
       "      <td>0</td>\n",
       "      <td>0</td>\n",
       "      <td>60</td>\n",
       "      <td>United-States</td>\n",
       "      <td>&gt;50K</td>\n",
       "    </tr>\n",
       "  </tbody>\n",
       "</table>\n",
       "<p>15060 rows × 14 columns</p>\n",
       "</div>"
      ],
      "text/plain": [
       "       age      workclass      education  educationno        maritalstatus  \\\n",
       "0       25        Private           11th            7        Never-married   \n",
       "1       38        Private        HS-grad            9   Married-civ-spouse   \n",
       "2       28      Local-gov     Assoc-acdm           12   Married-civ-spouse   \n",
       "3       44        Private   Some-college           10   Married-civ-spouse   \n",
       "4       34        Private           10th            6        Never-married   \n",
       "...    ...            ...            ...          ...                  ...   \n",
       "15055   33        Private      Bachelors           13        Never-married   \n",
       "15056   39        Private      Bachelors           13             Divorced   \n",
       "15057   38        Private      Bachelors           13   Married-civ-spouse   \n",
       "15058   44        Private      Bachelors           13             Divorced   \n",
       "15059   35   Self-emp-inc      Bachelors           13   Married-civ-spouse   \n",
       "\n",
       "               occupation    relationship                 race      sex  \\\n",
       "0       Machine-op-inspct       Own-child                Black     Male   \n",
       "1         Farming-fishing         Husband                White     Male   \n",
       "2         Protective-serv         Husband                White     Male   \n",
       "3       Machine-op-inspct         Husband                Black     Male   \n",
       "4           Other-service   Not-in-family                White     Male   \n",
       "...                   ...             ...                  ...      ...   \n",
       "15055      Prof-specialty       Own-child                White     Male   \n",
       "15056      Prof-specialty   Not-in-family                White   Female   \n",
       "15057      Prof-specialty         Husband                White     Male   \n",
       "15058        Adm-clerical       Own-child   Asian-Pac-Islander     Male   \n",
       "15059     Exec-managerial         Husband                White     Male   \n",
       "\n",
       "       capitalgain  capitalloss  hoursperweek          native  Salary  \n",
       "0                0            0            40   United-States   <=50K  \n",
       "1                0            0            50   United-States   <=50K  \n",
       "2                0            0            40   United-States    >50K  \n",
       "3             7688            0            40   United-States    >50K  \n",
       "4                0            0            30   United-States   <=50K  \n",
       "...            ...          ...           ...             ...     ...  \n",
       "15055            0            0            40   United-States   <=50K  \n",
       "15056            0            0            36   United-States   <=50K  \n",
       "15057            0            0            50   United-States   <=50K  \n",
       "15058         5455            0            40   United-States   <=50K  \n",
       "15059            0            0            60   United-States    >50K  \n",
       "\n",
       "[15060 rows x 14 columns]"
      ]
     },
     "execution_count": 62,
     "metadata": {},
     "output_type": "execute_result"
    }
   ],
   "source": [
    "test_data"
   ]
  },
  {
   "cell_type": "code",
   "execution_count": 63,
   "id": "1918bb50",
   "metadata": {
    "ExecuteTime": {
     "end_time": "2022-03-02T18:41:24.309917Z",
     "start_time": "2022-03-02T18:41:24.229901Z"
    }
   },
   "outputs": [
    {
     "name": "stdout",
     "output_type": "stream",
     "text": [
      "<class 'pandas.core.frame.DataFrame'>\n",
      "RangeIndex: 30161 entries, 0 to 30160\n",
      "Data columns (total 14 columns):\n",
      " #   Column         Non-Null Count  Dtype \n",
      "---  ------         --------------  ----- \n",
      " 0   age            30161 non-null  int64 \n",
      " 1   workclass      30161 non-null  object\n",
      " 2   education      30161 non-null  object\n",
      " 3   educationno    30161 non-null  int64 \n",
      " 4   maritalstatus  30161 non-null  object\n",
      " 5   occupation     30161 non-null  object\n",
      " 6   relationship   30161 non-null  object\n",
      " 7   race           30161 non-null  object\n",
      " 8   sex            30161 non-null  object\n",
      " 9   capitalgain    30161 non-null  int64 \n",
      " 10  capitalloss    30161 non-null  int64 \n",
      " 11  hoursperweek   30161 non-null  int64 \n",
      " 12  native         30161 non-null  object\n",
      " 13  Salary         30161 non-null  object\n",
      "dtypes: int64(5), object(9)\n",
      "memory usage: 3.2+ MB\n"
     ]
    }
   ],
   "source": [
    "train_data.info()"
   ]
  },
  {
   "cell_type": "code",
   "execution_count": 64,
   "id": "5af24100",
   "metadata": {
    "ExecuteTime": {
     "end_time": "2022-03-02T18:41:27.139401Z",
     "start_time": "2022-03-02T18:41:27.067390Z"
    }
   },
   "outputs": [
    {
     "name": "stdout",
     "output_type": "stream",
     "text": [
      "<class 'pandas.core.frame.DataFrame'>\n",
      "RangeIndex: 15060 entries, 0 to 15059\n",
      "Data columns (total 14 columns):\n",
      " #   Column         Non-Null Count  Dtype \n",
      "---  ------         --------------  ----- \n",
      " 0   age            15060 non-null  int64 \n",
      " 1   workclass      15060 non-null  object\n",
      " 2   education      15060 non-null  object\n",
      " 3   educationno    15060 non-null  int64 \n",
      " 4   maritalstatus  15060 non-null  object\n",
      " 5   occupation     15060 non-null  object\n",
      " 6   relationship   15060 non-null  object\n",
      " 7   race           15060 non-null  object\n",
      " 8   sex            15060 non-null  object\n",
      " 9   capitalgain    15060 non-null  int64 \n",
      " 10  capitalloss    15060 non-null  int64 \n",
      " 11  hoursperweek   15060 non-null  int64 \n",
      " 12  native         15060 non-null  object\n",
      " 13  Salary         15060 non-null  object\n",
      "dtypes: int64(5), object(9)\n",
      "memory usage: 1.6+ MB\n"
     ]
    }
   ],
   "source": [
    "test_data.info()"
   ]
  },
  {
   "cell_type": "code",
   "execution_count": 65,
   "id": "801b25ba",
   "metadata": {
    "ExecuteTime": {
     "end_time": "2022-03-02T18:41:30.182090Z",
     "start_time": "2022-03-02T18:41:30.070073Z"
    }
   },
   "outputs": [
    {
     "name": "stdout",
     "output_type": "stream",
     "text": [
      "workclass\n",
      " Private             22285\n",
      " Self-emp-not-inc     2499\n",
      " Local-gov            2067\n",
      " State-gov            1279\n",
      " Self-emp-inc         1074\n",
      " Federal-gov           943\n",
      " Without-pay            14\n",
      "Name: workclass, dtype: int64\n",
      "\n",
      "\n",
      "education\n",
      " HS-grad         9840\n",
      " Some-college    6677\n",
      " Bachelors       5044\n",
      " Masters         1627\n",
      " Assoc-voc       1307\n",
      " 11th            1048\n",
      " Assoc-acdm      1008\n",
      " 10th             820\n",
      " 7th-8th          557\n",
      " Prof-school      542\n",
      " 9th              455\n",
      " 12th             377\n",
      " Doctorate        375\n",
      " 5th-6th          288\n",
      " 1st-4th          151\n",
      " Preschool         45\n",
      "Name: education, dtype: int64\n",
      "\n",
      "\n",
      "maritalstatus\n",
      " Married-civ-spouse       14065\n",
      " Never-married             9725\n",
      " Divorced                  4214\n",
      " Separated                  939\n",
      " Widowed                    827\n",
      " Married-spouse-absent      370\n",
      " Married-AF-spouse           21\n",
      "Name: maritalstatus, dtype: int64\n",
      "\n",
      "\n",
      "occupation\n",
      " Prof-specialty       4038\n",
      " Craft-repair         4030\n",
      " Exec-managerial      3992\n",
      " Adm-clerical         3721\n",
      " Sales                3584\n",
      " Other-service        3212\n",
      " Machine-op-inspct    1965\n",
      " Transport-moving     1572\n",
      " Handlers-cleaners    1350\n",
      " Farming-fishing       989\n",
      " Tech-support          912\n",
      " Protective-serv       644\n",
      " Priv-house-serv       143\n",
      " Armed-Forces            9\n",
      "Name: occupation, dtype: int64\n",
      "\n",
      "\n",
      "relationship\n",
      " Husband           12463\n",
      " Not-in-family      7726\n",
      " Own-child          4466\n",
      " Unmarried          3212\n",
      " Wife               1406\n",
      " Other-relative      888\n",
      "Name: relationship, dtype: int64\n",
      "\n",
      "\n",
      "race\n",
      " White                 25932\n",
      " Black                  2817\n",
      " Asian-Pac-Islander      895\n",
      " Amer-Indian-Eskimo      286\n",
      " Other                   231\n",
      "Name: race, dtype: int64\n",
      "\n",
      "\n",
      "sex\n",
      " Male      20380\n",
      " Female     9781\n",
      "Name: sex, dtype: int64\n",
      "\n",
      "\n",
      "native\n",
      " United-States                 27504\n",
      " Mexico                          610\n",
      " Philippines                     188\n",
      " Germany                         128\n",
      " Puerto-Rico                     109\n",
      " Canada                          107\n",
      " India                           100\n",
      " El-Salvador                     100\n",
      " Cuba                             92\n",
      " England                          86\n",
      " Jamaica                          80\n",
      " South                            71\n",
      " China                            68\n",
      " Italy                            68\n",
      " Dominican-Republic               67\n",
      " Vietnam                          64\n",
      " Guatemala                        63\n",
      " Japan                            59\n",
      " Poland                           56\n",
      " Columbia                         56\n",
      " Iran                             42\n",
      " Taiwan                           42\n",
      " Haiti                            42\n",
      " Portugal                         34\n",
      " Nicaragua                        33\n",
      " Peru                             30\n",
      " Greece                           29\n",
      " France                           27\n",
      " Ecuador                          27\n",
      " Ireland                          24\n",
      " Hong                             19\n",
      " Cambodia                         18\n",
      " Trinadad&Tobago                  18\n",
      " Laos                             17\n",
      " Thailand                         17\n",
      " Yugoslavia                       16\n",
      " Outlying-US(Guam-USVI-etc)       14\n",
      " Hungary                          13\n",
      " Honduras                         12\n",
      " Scotland                         11\n",
      "Name: native, dtype: int64\n",
      "\n",
      "\n",
      "Salary\n",
      " <=50K    22653\n",
      " >50K      7508\n",
      "Name: Salary, dtype: int64\n",
      "\n",
      "\n"
     ]
    }
   ],
   "source": [
    "#frequency for categorical field for train_data\n",
    "category_col =['workclass', 'education','maritalstatus', 'occupation', 'relationship', 'race', 'sex', 'native', 'Salary'] \n",
    "for c in category_col:\n",
    "    print (c)\n",
    "    print (train_data[c].value_counts())\n",
    "    print('\\n')"
   ]
  },
  {
   "cell_type": "code",
   "execution_count": 66,
   "id": "0e0b21bf",
   "metadata": {
    "ExecuteTime": {
     "end_time": "2022-03-02T18:41:34.181078Z",
     "start_time": "2022-03-02T18:41:34.085064Z"
    }
   },
   "outputs": [
    {
     "name": "stdout",
     "output_type": "stream",
     "text": [
      "workclass\n",
      " Private             11021\n",
      " Self-emp-not-inc     1297\n",
      " Local-gov            1033\n",
      " State-gov             667\n",
      " Self-emp-inc          572\n",
      " Federal-gov           463\n",
      " Without-pay             7\n",
      "Name: workclass, dtype: int64\n",
      "\n",
      "\n",
      "education\n",
      " HS-grad         4943\n",
      " Some-college    3221\n",
      " Bachelors       2526\n",
      " Masters          887\n",
      " Assoc-voc        652\n",
      " 11th             571\n",
      " Assoc-acdm       499\n",
      " 10th             403\n",
      " 7th-8th          266\n",
      " Prof-school      243\n",
      " 9th              221\n",
      " 12th             200\n",
      " Doctorate        169\n",
      " 5th-6th          161\n",
      " 1st-4th           71\n",
      " Preschool         27\n",
      "Name: education, dtype: int64\n",
      "\n",
      "\n",
      "maritalstatus\n",
      " Married-civ-spouse       6990\n",
      " Never-married            4872\n",
      " Divorced                 2083\n",
      " Separated                 472\n",
      " Widowed                   450\n",
      " Married-spouse-absent     182\n",
      " Married-AF-spouse          11\n",
      "Name: maritalstatus, dtype: int64\n",
      "\n",
      "\n",
      "occupation\n",
      " Exec-managerial      1992\n",
      " Craft-repair         1990\n",
      " Prof-specialty       1970\n",
      " Sales                1824\n",
      " Adm-clerical         1819\n",
      " Other-service        1596\n",
      " Machine-op-inspct    1004\n",
      " Transport-moving      744\n",
      " Handlers-cleaners     696\n",
      " Tech-support          508\n",
      " Farming-fishing       491\n",
      " Protective-serv       332\n",
      " Priv-house-serv        89\n",
      " Armed-Forces            5\n",
      "Name: occupation, dtype: int64\n",
      "\n",
      "\n",
      "relationship\n",
      " Husband           6203\n",
      " Not-in-family     3976\n",
      " Own-child         2160\n",
      " Unmarried         1576\n",
      " Wife               685\n",
      " Other-relative     460\n",
      "Name: relationship, dtype: int64\n",
      "\n",
      "\n",
      "race\n",
      " White                 12970\n",
      " Black                  1411\n",
      " Asian-Pac-Islander      408\n",
      " Amer-Indian-Eskimo      149\n",
      " Other                   122\n",
      "Name: race, dtype: int64\n",
      "\n",
      "\n",
      "sex\n",
      " Male      10147\n",
      " Female     4913\n",
      "Name: sex, dtype: int64\n",
      "\n",
      "\n",
      "native\n",
      " United-States                 13788\n",
      " Mexico                          293\n",
      " Philippines                      95\n",
      " Puerto-Rico                      66\n",
      " Germany                          65\n",
      " Canada                           56\n",
      " El-Salvador                      47\n",
      " India                            47\n",
      " China                            45\n",
      " Cuba                             41\n",
      " England                          33\n",
      " Italy                            32\n",
      " South                            30\n",
      " Dominican-Republic               30\n",
      " Japan                            30\n",
      " Portugal                         28\n",
      " Haiti                            27\n",
      " Columbia                         26\n",
      " Poland                           25\n",
      " Guatemala                        23\n",
      " Jamaica                          23\n",
      " Greece                           20\n",
      " Vietnam                          19\n",
      " Ecuador                          16\n",
      " Nicaragua                        15\n",
      " Peru                             15\n",
      " Iran                             14\n",
      " Taiwan                           13\n",
      " Thailand                         12\n",
      " Ireland                          12\n",
      " Hong                              9\n",
      " Scotland                          9\n",
      " France                            9\n",
      " Outlying-US(Guam-USVI-etc)        8\n",
      " Trinadad&Tobago                   8\n",
      " Cambodia                          8\n",
      " Yugoslavia                        7\n",
      " Honduras                          7\n",
      " Hungary                           5\n",
      " Laos                              4\n",
      "Name: native, dtype: int64\n",
      "\n",
      "\n",
      "Salary\n",
      " <=50K    11360\n",
      " >50K      3700\n",
      "Name: Salary, dtype: int64\n",
      "\n",
      "\n"
     ]
    }
   ],
   "source": [
    "#frequency for categorical fields for test_data\n",
    "category_col =['workclass', 'education','maritalstatus', 'occupation', 'relationship', 'race', 'sex', 'native', 'Salary'] \n",
    "for c in category_col:\n",
    "    print (c)\n",
    "    print (test_data[c].value_counts())\n",
    "    print('\\n')"
   ]
  },
  {
   "cell_type": "code",
   "execution_count": 67,
   "id": "e561eda5",
   "metadata": {
    "ExecuteTime": {
     "end_time": "2022-03-02T18:41:45.489962Z",
     "start_time": "2022-03-02T18:41:39.136699Z"
    }
   },
   "outputs": [
    {
     "data": {
      "image/png": "[encoded data removed]",
      "text/plain": [
       "<Figure size 1080x576 with 1 Axes>"
      ]
     },
     "metadata": {},
     "output_type": "display_data"
    },
    {
     "data": {
      "image/png": "[encoded data removed]",
      "text/plain": [
       "<Figure size 1080x576 with 1 Axes>"
      ]
     },
     "metadata": {},
     "output_type": "display_data"
    },
    {
     "data": {
      "image/png": "[encoded data removed]",
      "text/plain": [
       "<Figure size 1080x576 with 1 Axes>"
      ]
     },
     "metadata": {},
     "output_type": "display_data"
    },
    {
     "data": {
      "image/png": "[encoded data removed]",
      "text/plain": [
       "<Figure size 1080x576 with 1 Axes>"
      ]
     },
     "metadata": {},
     "output_type": "display_data"
    },
    {
     "data": {
      "image/png": "[encoded data removed]",
      "text/plain": [
       "<Figure size 1080x576 with 1 Axes>"
      ]
     },
     "metadata": {},
     "output_type": "display_data"
    },
    {
     "data": {
      "image/png": "[encoded data removed]",
      "text/plain": [
       "<Figure size 1080x576 with 1 Axes>"
      ]
     },
     "metadata": {},
     "output_type": "display_data"
    },
    {
     "data": {
      "image/png": "[encoded data removed]",
      "text/plain": [
       "<Figure size 1080x576 with 1 Axes>"
      ]
     },
     "metadata": {},
     "output_type": "display_data"
    },
    {
     "data": {
      "image/png": "[encoded data removed]",
      "text/plain": [
       "<Figure size 1080x576 with 1 Axes>"
      ]
     },
     "metadata": {},
     "output_type": "display_data"
    }
   ],
   "source": [
    "# countplot for all categorical columns for train_data\n",
    "sns.set(rc={'figure.figsize':(15,8)})\n",
    "cat_col = ['workclass', 'education','maritalstatus', 'occupation', 'relationship', 'race', 'sex','Salary']\n",
    "for col in cat_col:\n",
    "    plt.figure() #this creates a new figure on which your plot will appear\n",
    "    sns.countplot(x = col, data = train_data, palette = 'Set3')"
   ]
  },
  {
   "cell_type": "code",
   "execution_count": 68,
   "id": "537ce6f6",
   "metadata": {
    "ExecuteTime": {
     "end_time": "2022-03-02T18:41:57.062091Z",
     "start_time": "2022-03-02T18:41:50.619505Z"
    }
   },
   "outputs": [
    {
     "data": {
      "image/png": "[encoded data removed]",
      "text/plain": [
       "<Figure size 1080x576 with 1 Axes>"
      ]
     },
     "metadata": {},
     "output_type": "display_data"
    },
    {
     "data": {
      "image/png": "[encoded data removed]",
      "text/plain": [
       "<Figure size 1080x576 with 1 Axes>"
      ]
     },
     "metadata": {},
     "output_type": "display_data"
    },
    {
     "data": {
      "image/png": "[encoded data removed]",
      "text/plain": [
       "<Figure size 1080x576 with 1 Axes>"
      ]
     },
     "metadata": {},
     "output_type": "display_data"
    },
    {
     "data": {
      "image/png": "[encoded data removed]",
      "text/plain": [
       "<Figure size 1080x576 with 1 Axes>"
      ]
     },
     "metadata": {},
     "output_type": "display_data"
    },
    {
     "data": {
      "image/png": "[encoded data removed]",
      "text/plain": [
       "<Figure size 1080x576 with 1 Axes>"
      ]
     },
     "metadata": {},
     "output_type": "display_data"
    },
    {
     "data": {
      "image/png": "[encoded data removed]",
      "text/plain": [
       "<Figure size 1080x576 with 1 Axes>"
      ]
     },
     "metadata": {},
     "output_type": "display_data"
    },
    {
     "data": {
      "image/png": "[encoded data removed]",
      "text/plain": [
       "<Figure size 1080x576 with 1 Axes>"
      ]
     },
     "metadata": {},
     "output_type": "display_data"
    },
    {
     "data": {
      "image/png": "[encoded data removed]",
      "text/plain": [
       "<Figure size 1080x576 with 1 Axes>"
      ]
     },
     "metadata": {},
     "output_type": "display_data"
    }
   ],
   "source": [
    "# countplot for all categorical columns for test_data\n",
    "sns.set(rc={'figure.figsize':(15,8)})\n",
    "cat_col = ['workclass', 'education','maritalstatus', 'occupation', 'relationship', 'race', 'sex','Salary']\n",
    "for col in cat_col:\n",
    "    plt.figure() #this creates a new figure on which your plot will appear\n",
    "    sns.countplot(x = col, data = test_data, palette = 'Set3')"
   ]
  },
  {
   "cell_type": "code",
   "execution_count": 69,
   "id": "8b81a4e9",
   "metadata": {
    "ExecuteTime": {
     "end_time": "2022-03-02T18:42:03.608325Z",
     "start_time": "2022-03-02T18:42:03.536314Z"
    }
   },
   "outputs": [
    {
     "data": {
      "text/html": [
       "<div>\n",
       "<style scoped>\n",
       "    .dataframe tbody tr th:only-of-type {\n",
       "        vertical-align: middle;\n",
       "    }\n",
       "\n",
       "    .dataframe tbody tr th {\n",
       "        vertical-align: top;\n",
       "    }\n",
       "\n",
       "    .dataframe thead th {\n",
       "        text-align: right;\n",
       "    }\n",
       "</style>\n",
       "<table border=\"1\" class=\"dataframe\">\n",
       "  <thead>\n",
       "    <tr style=\"text-align: right;\">\n",
       "      <th></th>\n",
       "      <th>Salary</th>\n",
       "      <th>age</th>\n",
       "    </tr>\n",
       "  </thead>\n",
       "  <tbody>\n",
       "    <tr>\n",
       "      <th>1</th>\n",
       "      <td>&gt;50K</td>\n",
       "      <td>43.959110</td>\n",
       "    </tr>\n",
       "    <tr>\n",
       "      <th>0</th>\n",
       "      <td>&lt;=50K</td>\n",
       "      <td>36.608264</td>\n",
       "    </tr>\n",
       "  </tbody>\n",
       "</table>\n",
       "</div>"
      ],
      "text/plain": [
       "   Salary        age\n",
       "1    >50K  43.959110\n",
       "0   <=50K  36.608264"
      ]
     },
     "execution_count": 69,
     "metadata": {},
     "output_type": "execute_result"
    }
   ],
   "source": [
    "#Grouping which age group is more likely to have salary >50K or <=50K for train_data\n",
    "train_data[['Salary', 'age']].groupby(['Salary'], as_index=False).mean().sort_values(by='age', ascending=False)"
   ]
  },
  {
   "cell_type": "code",
   "execution_count": 70,
   "id": "bef10c28",
   "metadata": {
    "ExecuteTime": {
     "end_time": "2022-03-02T18:42:07.380151Z",
     "start_time": "2022-03-02T18:42:07.332140Z"
    }
   },
   "outputs": [
    {
     "data": {
      "text/html": [
       "<div>\n",
       "<style scoped>\n",
       "    .dataframe tbody tr th:only-of-type {\n",
       "        vertical-align: middle;\n",
       "    }\n",
       "\n",
       "    .dataframe tbody tr th {\n",
       "        vertical-align: top;\n",
       "    }\n",
       "\n",
       "    .dataframe thead th {\n",
       "        text-align: right;\n",
       "    }\n",
       "</style>\n",
       "<table border=\"1\" class=\"dataframe\">\n",
       "  <thead>\n",
       "    <tr style=\"text-align: right;\">\n",
       "      <th></th>\n",
       "      <th>Salary</th>\n",
       "      <th>age</th>\n",
       "    </tr>\n",
       "  </thead>\n",
       "  <tbody>\n",
       "    <tr>\n",
       "      <th>1</th>\n",
       "      <td>&gt;50K</td>\n",
       "      <td>44.101351</td>\n",
       "    </tr>\n",
       "    <tr>\n",
       "      <th>0</th>\n",
       "      <td>&lt;=50K</td>\n",
       "      <td>37.031338</td>\n",
       "    </tr>\n",
       "  </tbody>\n",
       "</table>\n",
       "</div>"
      ],
      "text/plain": [
       "   Salary        age\n",
       "1    >50K  44.101351\n",
       "0   <=50K  37.031338"
      ]
     },
     "execution_count": 70,
     "metadata": {},
     "output_type": "execute_result"
    }
   ],
   "source": [
    "#Grouping which age group is more likely to have salary >50K or <=50K for train_data\n",
    "test_data[['Salary', 'age']].groupby(['Salary'], as_index=False).mean().sort_values(by='age', ascending=False)"
   ]
  },
  {
   "cell_type": "markdown",
   "id": "612cbbd9",
   "metadata": {},
   "source": [
    "# Feature encoding"
   ]
  },
  {
   "cell_type": "code",
   "execution_count": 71,
   "id": "798d1c98",
   "metadata": {
    "ExecuteTime": {
     "end_time": "2022-03-02T18:42:10.465725Z",
     "start_time": "2022-03-02T18:42:10.245180Z"
    }
   },
   "outputs": [],
   "source": [
    "#For SalaryData_Train\n",
    "train_data = train_data.apply(LabelEncoder().fit_transform)"
   ]
  },
  {
   "cell_type": "code",
   "execution_count": 72,
   "id": "60c0cb58",
   "metadata": {
    "ExecuteTime": {
     "end_time": "2022-03-02T18:42:12.605894Z",
     "start_time": "2022-03-02T18:42:12.557889Z"
    }
   },
   "outputs": [
    {
     "data": {
      "text/html": [
       "<div>\n",
       "<style scoped>\n",
       "    .dataframe tbody tr th:only-of-type {\n",
       "        vertical-align: middle;\n",
       "    }\n",
       "\n",
       "    .dataframe tbody tr th {\n",
       "        vertical-align: top;\n",
       "    }\n",
       "\n",
       "    .dataframe thead th {\n",
       "        text-align: right;\n",
       "    }\n",
       "</style>\n",
       "<table border=\"1\" class=\"dataframe\">\n",
       "  <thead>\n",
       "    <tr style=\"text-align: right;\">\n",
       "      <th></th>\n",
       "      <th>age</th>\n",
       "      <th>workclass</th>\n",
       "      <th>education</th>\n",
       "      <th>educationno</th>\n",
       "      <th>maritalstatus</th>\n",
       "      <th>occupation</th>\n",
       "      <th>relationship</th>\n",
       "      <th>race</th>\n",
       "      <th>sex</th>\n",
       "      <th>capitalgain</th>\n",
       "      <th>capitalloss</th>\n",
       "      <th>hoursperweek</th>\n",
       "      <th>native</th>\n",
       "      <th>Salary</th>\n",
       "    </tr>\n",
       "  </thead>\n",
       "  <tbody>\n",
       "    <tr>\n",
       "      <th>0</th>\n",
       "      <td>22</td>\n",
       "      <td>5</td>\n",
       "      <td>9</td>\n",
       "      <td>12</td>\n",
       "      <td>4</td>\n",
       "      <td>0</td>\n",
       "      <td>1</td>\n",
       "      <td>4</td>\n",
       "      <td>1</td>\n",
       "      <td>24</td>\n",
       "      <td>0</td>\n",
       "      <td>39</td>\n",
       "      <td>37</td>\n",
       "      <td>0</td>\n",
       "    </tr>\n",
       "    <tr>\n",
       "      <th>1</th>\n",
       "      <td>33</td>\n",
       "      <td>4</td>\n",
       "      <td>9</td>\n",
       "      <td>12</td>\n",
       "      <td>2</td>\n",
       "      <td>3</td>\n",
       "      <td>0</td>\n",
       "      <td>4</td>\n",
       "      <td>1</td>\n",
       "      <td>0</td>\n",
       "      <td>0</td>\n",
       "      <td>12</td>\n",
       "      <td>37</td>\n",
       "      <td>0</td>\n",
       "    </tr>\n",
       "    <tr>\n",
       "      <th>2</th>\n",
       "      <td>21</td>\n",
       "      <td>2</td>\n",
       "      <td>11</td>\n",
       "      <td>8</td>\n",
       "      <td>0</td>\n",
       "      <td>5</td>\n",
       "      <td>1</td>\n",
       "      <td>4</td>\n",
       "      <td>1</td>\n",
       "      <td>0</td>\n",
       "      <td>0</td>\n",
       "      <td>39</td>\n",
       "      <td>37</td>\n",
       "      <td>0</td>\n",
       "    </tr>\n",
       "    <tr>\n",
       "      <th>3</th>\n",
       "      <td>36</td>\n",
       "      <td>2</td>\n",
       "      <td>1</td>\n",
       "      <td>6</td>\n",
       "      <td>2</td>\n",
       "      <td>5</td>\n",
       "      <td>0</td>\n",
       "      <td>2</td>\n",
       "      <td>1</td>\n",
       "      <td>0</td>\n",
       "      <td>0</td>\n",
       "      <td>39</td>\n",
       "      <td>37</td>\n",
       "      <td>0</td>\n",
       "    </tr>\n",
       "    <tr>\n",
       "      <th>4</th>\n",
       "      <td>11</td>\n",
       "      <td>2</td>\n",
       "      <td>9</td>\n",
       "      <td>12</td>\n",
       "      <td>2</td>\n",
       "      <td>9</td>\n",
       "      <td>5</td>\n",
       "      <td>2</td>\n",
       "      <td>0</td>\n",
       "      <td>0</td>\n",
       "      <td>0</td>\n",
       "      <td>39</td>\n",
       "      <td>4</td>\n",
       "      <td>0</td>\n",
       "    </tr>\n",
       "  </tbody>\n",
       "</table>\n",
       "</div>"
      ],
      "text/plain": [
       "   age  workclass  education  educationno  maritalstatus  occupation  \\\n",
       "0   22          5          9           12              4           0   \n",
       "1   33          4          9           12              2           3   \n",
       "2   21          2         11            8              0           5   \n",
       "3   36          2          1            6              2           5   \n",
       "4   11          2          9           12              2           9   \n",
       "\n",
       "   relationship  race  sex  capitalgain  capitalloss  hoursperweek  native  \\\n",
       "0             1     4    1           24            0            39      37   \n",
       "1             0     4    1            0            0            12      37   \n",
       "2             1     4    1            0            0            39      37   \n",
       "3             0     2    1            0            0            39      37   \n",
       "4             5     2    0            0            0            39       4   \n",
       "\n",
       "   Salary  \n",
       "0       0  \n",
       "1       0  \n",
       "2       0  \n",
       "3       0  \n",
       "4       0  "
      ]
     },
     "execution_count": 72,
     "metadata": {},
     "output_type": "execute_result"
    }
   ],
   "source": [
    "train_data.head()"
   ]
  },
  {
   "cell_type": "code",
   "execution_count": 73,
   "id": "2d4fc588",
   "metadata": {
    "ExecuteTime": {
     "end_time": "2022-03-02T18:42:16.208440Z",
     "start_time": "2022-03-02T18:42:16.088319Z"
    }
   },
   "outputs": [],
   "source": [
    "#For SalaryData_Test\n",
    "test_data = test_data.apply(LabelEncoder().fit_transform)"
   ]
  },
  {
   "cell_type": "code",
   "execution_count": 74,
   "id": "71457cd5",
   "metadata": {
    "ExecuteTime": {
     "end_time": "2022-03-02T18:42:19.432255Z",
     "start_time": "2022-03-02T18:42:19.384257Z"
    }
   },
   "outputs": [
    {
     "data": {
      "text/html": [
       "<div>\n",
       "<style scoped>\n",
       "    .dataframe tbody tr th:only-of-type {\n",
       "        vertical-align: middle;\n",
       "    }\n",
       "\n",
       "    .dataframe tbody tr th {\n",
       "        vertical-align: top;\n",
       "    }\n",
       "\n",
       "    .dataframe thead th {\n",
       "        text-align: right;\n",
       "    }\n",
       "</style>\n",
       "<table border=\"1\" class=\"dataframe\">\n",
       "  <thead>\n",
       "    <tr style=\"text-align: right;\">\n",
       "      <th></th>\n",
       "      <th>age</th>\n",
       "      <th>workclass</th>\n",
       "      <th>education</th>\n",
       "      <th>educationno</th>\n",
       "      <th>maritalstatus</th>\n",
       "      <th>occupation</th>\n",
       "      <th>relationship</th>\n",
       "      <th>race</th>\n",
       "      <th>sex</th>\n",
       "      <th>capitalgain</th>\n",
       "      <th>capitalloss</th>\n",
       "      <th>hoursperweek</th>\n",
       "      <th>native</th>\n",
       "      <th>Salary</th>\n",
       "    </tr>\n",
       "  </thead>\n",
       "  <tbody>\n",
       "    <tr>\n",
       "      <th>0</th>\n",
       "      <td>8</td>\n",
       "      <td>2</td>\n",
       "      <td>1</td>\n",
       "      <td>6</td>\n",
       "      <td>4</td>\n",
       "      <td>6</td>\n",
       "      <td>3</td>\n",
       "      <td>2</td>\n",
       "      <td>1</td>\n",
       "      <td>0</td>\n",
       "      <td>0</td>\n",
       "      <td>39</td>\n",
       "      <td>37</td>\n",
       "      <td>0</td>\n",
       "    </tr>\n",
       "    <tr>\n",
       "      <th>1</th>\n",
       "      <td>21</td>\n",
       "      <td>2</td>\n",
       "      <td>11</td>\n",
       "      <td>8</td>\n",
       "      <td>2</td>\n",
       "      <td>4</td>\n",
       "      <td>0</td>\n",
       "      <td>4</td>\n",
       "      <td>1</td>\n",
       "      <td>0</td>\n",
       "      <td>0</td>\n",
       "      <td>49</td>\n",
       "      <td>37</td>\n",
       "      <td>0</td>\n",
       "    </tr>\n",
       "    <tr>\n",
       "      <th>2</th>\n",
       "      <td>11</td>\n",
       "      <td>1</td>\n",
       "      <td>7</td>\n",
       "      <td>11</td>\n",
       "      <td>2</td>\n",
       "      <td>10</td>\n",
       "      <td>0</td>\n",
       "      <td>4</td>\n",
       "      <td>1</td>\n",
       "      <td>0</td>\n",
       "      <td>0</td>\n",
       "      <td>39</td>\n",
       "      <td>37</td>\n",
       "      <td>1</td>\n",
       "    </tr>\n",
       "    <tr>\n",
       "      <th>3</th>\n",
       "      <td>27</td>\n",
       "      <td>2</td>\n",
       "      <td>15</td>\n",
       "      <td>9</td>\n",
       "      <td>2</td>\n",
       "      <td>6</td>\n",
       "      <td>0</td>\n",
       "      <td>2</td>\n",
       "      <td>1</td>\n",
       "      <td>87</td>\n",
       "      <td>0</td>\n",
       "      <td>39</td>\n",
       "      <td>37</td>\n",
       "      <td>1</td>\n",
       "    </tr>\n",
       "    <tr>\n",
       "      <th>4</th>\n",
       "      <td>17</td>\n",
       "      <td>2</td>\n",
       "      <td>0</td>\n",
       "      <td>5</td>\n",
       "      <td>4</td>\n",
       "      <td>7</td>\n",
       "      <td>1</td>\n",
       "      <td>4</td>\n",
       "      <td>1</td>\n",
       "      <td>0</td>\n",
       "      <td>0</td>\n",
       "      <td>29</td>\n",
       "      <td>37</td>\n",
       "      <td>0</td>\n",
       "    </tr>\n",
       "  </tbody>\n",
       "</table>\n",
       "</div>"
      ],
      "text/plain": [
       "   age  workclass  education  educationno  maritalstatus  occupation  \\\n",
       "0    8          2          1            6              4           6   \n",
       "1   21          2         11            8              2           4   \n",
       "2   11          1          7           11              2          10   \n",
       "3   27          2         15            9              2           6   \n",
       "4   17          2          0            5              4           7   \n",
       "\n",
       "   relationship  race  sex  capitalgain  capitalloss  hoursperweek  native  \\\n",
       "0             3     2    1            0            0            39      37   \n",
       "1             0     4    1            0            0            49      37   \n",
       "2             0     4    1            0            0            39      37   \n",
       "3             0     2    1           87            0            39      37   \n",
       "4             1     4    1            0            0            29      37   \n",
       "\n",
       "   Salary  \n",
       "0       0  \n",
       "1       0  \n",
       "2       1  \n",
       "3       1  \n",
       "4       0  "
      ]
     },
     "execution_count": 74,
     "metadata": {},
     "output_type": "execute_result"
    }
   ],
   "source": [
    "test_data.head()"
   ]
  },
  {
   "cell_type": "markdown",
   "id": "6cea8843",
   "metadata": {},
   "source": [
    "# SalaryData_Train"
   ]
  },
  {
   "cell_type": "markdown",
   "id": "d64c55f5",
   "metadata": {},
   "source": [
    "# Testing Multinomial Naive Bayes model on SalaryData_Train"
   ]
  },
  {
   "cell_type": "code",
   "execution_count": 75,
   "id": "2303e01e",
   "metadata": {
    "ExecuteTime": {
     "end_time": "2022-03-02T18:42:22.508009Z",
     "start_time": "2022-03-02T18:42:22.484005Z"
    }
   },
   "outputs": [],
   "source": [
    "#Test-Train Split\n",
    "drop_elements = ['education', 'native', 'Salary']\n",
    "X = train_data.drop(drop_elements, axis=1)\n",
    "Y = train_data['Salary']"
   ]
  },
  {
   "cell_type": "code",
   "execution_count": 76,
   "id": "80ba2051",
   "metadata": {
    "ExecuteTime": {
     "end_time": "2022-03-02T18:42:25.069263Z",
     "start_time": "2022-03-02T18:42:25.005263Z"
    }
   },
   "outputs": [
    {
     "data": {
      "text/html": [
       "<div>\n",
       "<style scoped>\n",
       "    .dataframe tbody tr th:only-of-type {\n",
       "        vertical-align: middle;\n",
       "    }\n",
       "\n",
       "    .dataframe tbody tr th {\n",
       "        vertical-align: top;\n",
       "    }\n",
       "\n",
       "    .dataframe thead th {\n",
       "        text-align: right;\n",
       "    }\n",
       "</style>\n",
       "<table border=\"1\" class=\"dataframe\">\n",
       "  <thead>\n",
       "    <tr style=\"text-align: right;\">\n",
       "      <th></th>\n",
       "      <th>age</th>\n",
       "      <th>workclass</th>\n",
       "      <th>educationno</th>\n",
       "      <th>maritalstatus</th>\n",
       "      <th>occupation</th>\n",
       "      <th>relationship</th>\n",
       "      <th>race</th>\n",
       "      <th>sex</th>\n",
       "      <th>capitalgain</th>\n",
       "      <th>capitalloss</th>\n",
       "      <th>hoursperweek</th>\n",
       "    </tr>\n",
       "  </thead>\n",
       "  <tbody>\n",
       "    <tr>\n",
       "      <th>0</th>\n",
       "      <td>22</td>\n",
       "      <td>5</td>\n",
       "      <td>12</td>\n",
       "      <td>4</td>\n",
       "      <td>0</td>\n",
       "      <td>1</td>\n",
       "      <td>4</td>\n",
       "      <td>1</td>\n",
       "      <td>24</td>\n",
       "      <td>0</td>\n",
       "      <td>39</td>\n",
       "    </tr>\n",
       "    <tr>\n",
       "      <th>1</th>\n",
       "      <td>33</td>\n",
       "      <td>4</td>\n",
       "      <td>12</td>\n",
       "      <td>2</td>\n",
       "      <td>3</td>\n",
       "      <td>0</td>\n",
       "      <td>4</td>\n",
       "      <td>1</td>\n",
       "      <td>0</td>\n",
       "      <td>0</td>\n",
       "      <td>12</td>\n",
       "    </tr>\n",
       "    <tr>\n",
       "      <th>2</th>\n",
       "      <td>21</td>\n",
       "      <td>2</td>\n",
       "      <td>8</td>\n",
       "      <td>0</td>\n",
       "      <td>5</td>\n",
       "      <td>1</td>\n",
       "      <td>4</td>\n",
       "      <td>1</td>\n",
       "      <td>0</td>\n",
       "      <td>0</td>\n",
       "      <td>39</td>\n",
       "    </tr>\n",
       "    <tr>\n",
       "      <th>3</th>\n",
       "      <td>36</td>\n",
       "      <td>2</td>\n",
       "      <td>6</td>\n",
       "      <td>2</td>\n",
       "      <td>5</td>\n",
       "      <td>0</td>\n",
       "      <td>2</td>\n",
       "      <td>1</td>\n",
       "      <td>0</td>\n",
       "      <td>0</td>\n",
       "      <td>39</td>\n",
       "    </tr>\n",
       "    <tr>\n",
       "      <th>4</th>\n",
       "      <td>11</td>\n",
       "      <td>2</td>\n",
       "      <td>12</td>\n",
       "      <td>2</td>\n",
       "      <td>9</td>\n",
       "      <td>5</td>\n",
       "      <td>2</td>\n",
       "      <td>0</td>\n",
       "      <td>0</td>\n",
       "      <td>0</td>\n",
       "      <td>39</td>\n",
       "    </tr>\n",
       "    <tr>\n",
       "      <th>...</th>\n",
       "      <td>...</td>\n",
       "      <td>...</td>\n",
       "      <td>...</td>\n",
       "      <td>...</td>\n",
       "      <td>...</td>\n",
       "      <td>...</td>\n",
       "      <td>...</td>\n",
       "      <td>...</td>\n",
       "      <td>...</td>\n",
       "      <td>...</td>\n",
       "      <td>...</td>\n",
       "    </tr>\n",
       "    <tr>\n",
       "      <th>30156</th>\n",
       "      <td>10</td>\n",
       "      <td>2</td>\n",
       "      <td>11</td>\n",
       "      <td>2</td>\n",
       "      <td>12</td>\n",
       "      <td>5</td>\n",
       "      <td>4</td>\n",
       "      <td>0</td>\n",
       "      <td>0</td>\n",
       "      <td>0</td>\n",
       "      <td>37</td>\n",
       "    </tr>\n",
       "    <tr>\n",
       "      <th>30157</th>\n",
       "      <td>23</td>\n",
       "      <td>2</td>\n",
       "      <td>8</td>\n",
       "      <td>2</td>\n",
       "      <td>6</td>\n",
       "      <td>0</td>\n",
       "      <td>4</td>\n",
       "      <td>1</td>\n",
       "      <td>0</td>\n",
       "      <td>0</td>\n",
       "      <td>39</td>\n",
       "    </tr>\n",
       "    <tr>\n",
       "      <th>30158</th>\n",
       "      <td>41</td>\n",
       "      <td>2</td>\n",
       "      <td>8</td>\n",
       "      <td>6</td>\n",
       "      <td>0</td>\n",
       "      <td>4</td>\n",
       "      <td>4</td>\n",
       "      <td>0</td>\n",
       "      <td>0</td>\n",
       "      <td>0</td>\n",
       "      <td>39</td>\n",
       "    </tr>\n",
       "    <tr>\n",
       "      <th>30159</th>\n",
       "      <td>5</td>\n",
       "      <td>2</td>\n",
       "      <td>8</td>\n",
       "      <td>4</td>\n",
       "      <td>0</td>\n",
       "      <td>3</td>\n",
       "      <td>4</td>\n",
       "      <td>1</td>\n",
       "      <td>0</td>\n",
       "      <td>0</td>\n",
       "      <td>19</td>\n",
       "    </tr>\n",
       "    <tr>\n",
       "      <th>30160</th>\n",
       "      <td>35</td>\n",
       "      <td>3</td>\n",
       "      <td>8</td>\n",
       "      <td>2</td>\n",
       "      <td>3</td>\n",
       "      <td>5</td>\n",
       "      <td>4</td>\n",
       "      <td>0</td>\n",
       "      <td>107</td>\n",
       "      <td>0</td>\n",
       "      <td>39</td>\n",
       "    </tr>\n",
       "  </tbody>\n",
       "</table>\n",
       "<p>30161 rows × 11 columns</p>\n",
       "</div>"
      ],
      "text/plain": [
       "       age  workclass  educationno  maritalstatus  occupation  relationship  \\\n",
       "0       22          5           12              4           0             1   \n",
       "1       33          4           12              2           3             0   \n",
       "2       21          2            8              0           5             1   \n",
       "3       36          2            6              2           5             0   \n",
       "4       11          2           12              2           9             5   \n",
       "...    ...        ...          ...            ...         ...           ...   \n",
       "30156   10          2           11              2          12             5   \n",
       "30157   23          2            8              2           6             0   \n",
       "30158   41          2            8              6           0             4   \n",
       "30159    5          2            8              4           0             3   \n",
       "30160   35          3            8              2           3             5   \n",
       "\n",
       "       race  sex  capitalgain  capitalloss  hoursperweek  \n",
       "0         4    1           24            0            39  \n",
       "1         4    1            0            0            12  \n",
       "2         4    1            0            0            39  \n",
       "3         2    1            0            0            39  \n",
       "4         2    0            0            0            39  \n",
       "...     ...  ...          ...          ...           ...  \n",
       "30156     4    0            0            0            37  \n",
       "30157     4    1            0            0            39  \n",
       "30158     4    0            0            0            39  \n",
       "30159     4    1            0            0            19  \n",
       "30160     4    0          107            0            39  \n",
       "\n",
       "[30161 rows x 11 columns]"
      ]
     },
     "execution_count": 76,
     "metadata": {},
     "output_type": "execute_result"
    }
   ],
   "source": [
    "X"
   ]
  },
  {
   "cell_type": "code",
   "execution_count": 77,
   "id": "b976251c",
   "metadata": {
    "ExecuteTime": {
     "end_time": "2022-03-02T18:42:28.172789Z",
     "start_time": "2022-03-02T18:42:28.148789Z"
    }
   },
   "outputs": [
    {
     "data": {
      "text/plain": [
       "0        0\n",
       "1        0\n",
       "2        0\n",
       "3        0\n",
       "4        0\n",
       "        ..\n",
       "30156    0\n",
       "30157    1\n",
       "30158    0\n",
       "30159    0\n",
       "30160    1\n",
       "Name: Salary, Length: 30161, dtype: int32"
      ]
     },
     "execution_count": 77,
     "metadata": {},
     "output_type": "execute_result"
    }
   ],
   "source": [
    "Y"
   ]
  },
  {
   "cell_type": "code",
   "execution_count": 78,
   "id": "a4ae9d63",
   "metadata": {
    "ExecuteTime": {
     "end_time": "2022-03-02T18:42:31.629583Z",
     "start_time": "2022-03-02T18:42:31.589578Z"
    }
   },
   "outputs": [],
   "source": [
    "X_train, X_test, Y_train, Y_test = train_test_split(X, Y, test_size=0.33, random_state=42)"
   ]
  },
  {
   "cell_type": "markdown",
   "id": "79cc03a1",
   "metadata": {},
   "source": [
    "# Building Multinomial Naive Bayes Model on SalaryData_Train"
   ]
  },
  {
   "cell_type": "code",
   "execution_count": 79,
   "id": "2931e508",
   "metadata": {
    "ExecuteTime": {
     "end_time": "2022-03-02T18:42:34.243189Z",
     "start_time": "2022-03-02T18:42:34.203187Z"
    }
   },
   "outputs": [
    {
     "data": {
      "text/plain": [
       "MultinomialNB()"
      ]
     },
     "execution_count": 79,
     "metadata": {},
     "output_type": "execute_result"
    }
   ],
   "source": [
    "# Preparing a naive bayes model on training data set  Multinomial Naive Bayes\n",
    "classifier_mb = MB()\n",
    "classifier_mb.fit(X_train, Y_train)"
   ]
  },
  {
   "cell_type": "code",
   "execution_count": 80,
   "id": "790c0781",
   "metadata": {
    "ExecuteTime": {
     "end_time": "2022-03-02T18:42:37.570180Z",
     "start_time": "2022-03-02T18:42:37.514177Z"
    }
   },
   "outputs": [
    {
     "name": "stdout",
     "output_type": "stream",
     "text": [
      "The accuracy of Gaussian Naive Bayes is 0.7796865581675708\n"
     ]
    }
   ],
   "source": [
    "score_multinomial = classifier_mb.score(X_test , Y_test)\n",
    "print('The accuracy of Gaussian Naive Bayes is', score_multinomial)"
   ]
  },
  {
   "cell_type": "markdown",
   "id": "6630a787",
   "metadata": {},
   "source": [
    "# Building Gaussian Naive Bayes Model on SalaryData_Train"
   ]
  },
  {
   "cell_type": "code",
   "execution_count": 81,
   "id": "93366a1a",
   "metadata": {
    "ExecuteTime": {
     "end_time": "2022-03-02T18:42:41.624889Z",
     "start_time": "2022-03-02T18:42:41.568883Z"
    }
   },
   "outputs": [
    {
     "data": {
      "text/plain": [
       "GaussianNB()"
      ]
     },
     "execution_count": 81,
     "metadata": {},
     "output_type": "execute_result"
    }
   ],
   "source": [
    "# Gaussian Naive Bayes\n",
    "classifier_gb = GB()\n",
    "classifier_gb.fit(X_train, Y_train)"
   ]
  },
  {
   "cell_type": "code",
   "execution_count": 82,
   "id": "8a078268",
   "metadata": {
    "ExecuteTime": {
     "end_time": "2022-03-02T18:42:44.095092Z",
     "start_time": "2022-03-02T18:42:44.063088Z"
    }
   },
   "outputs": [
    {
     "name": "stdout",
     "output_type": "stream",
     "text": [
      "The accuracy of Gaussian Naive Bayes is 0.812035362668274\n"
     ]
    }
   ],
   "source": [
    "score_gaussian = classifier_gb.score(X_test , Y_test)\n",
    "print('The accuracy of Gaussian Naive Bayes is', score_gaussian)"
   ]
  },
  {
   "cell_type": "markdown",
   "id": "bef3495a",
   "metadata": {},
   "source": [
    "# Testing Gaussian Naive Bays model on SalaryData_Train"
   ]
  },
  {
   "cell_type": "code",
   "execution_count": 83,
   "id": "13f2da00",
   "metadata": {
    "ExecuteTime": {
     "end_time": "2022-03-02T18:43:36.469801Z",
     "start_time": "2022-03-02T18:43:36.144129Z"
    }
   },
   "outputs": [
    {
     "name": "stdout",
     "output_type": "stream",
     "text": [
      "              precision    recall  f1-score   support\n",
      "\n",
      "           0       0.84      0.93      0.88     22653\n",
      "           1       0.68      0.45      0.54      7508\n",
      "\n",
      "    accuracy                           0.81     30161\n",
      "   macro avg       0.76      0.69      0.71     30161\n",
      "weighted avg       0.80      0.81      0.80     30161\n",
      "\n",
      "[[21105  1548]\n",
      " [ 4145  3363]]\n",
      "Accuracy: 0.8112463114618216\n",
      "Precision: 0.6847892486255345\n",
      "Recall: 0.44792221630261053\n"
     ]
    }
   ],
   "source": [
    "# make predictions\n",
    "new_prediction = classifier_gb.predict(X)\n",
    "# summarize the fit of the model\n",
    "print(metrics.classification_report(Y, new_prediction))\n",
    "print(metrics.confusion_matrix(Y, new_prediction))\n",
    "\n",
    "print(\"Accuracy:\",metrics.accuracy_score(Y, new_prediction))\n",
    "print(\"Precision:\",metrics.precision_score(Y, new_prediction))\n",
    "print(\"Recall:\",metrics.recall_score(Y, new_prediction))"
   ]
  },
  {
   "cell_type": "markdown",
   "id": "b6cf3219",
   "metadata": {},
   "source": [
    "# SalaryData_Test"
   ]
  },
  {
   "cell_type": "markdown",
   "id": "f3fe4acf",
   "metadata": {},
   "source": [
    "# Testing Multinomial Naive Bayes model on SalaryData_Test"
   ]
  },
  {
   "cell_type": "code",
   "execution_count": 84,
   "id": "0ebb6f6d",
   "metadata": {
    "ExecuteTime": {
     "end_time": "2022-03-02T18:44:32.071448Z",
     "start_time": "2022-03-02T18:44:32.055443Z"
    }
   },
   "outputs": [],
   "source": [
    "drop_elements = ['education', 'native', 'Salary']\n",
    "x = test_data.drop(drop_elements, axis=1)\n",
    "\n",
    "y = test_data['Salary']"
   ]
  },
  {
   "cell_type": "code",
   "execution_count": 85,
   "id": "23e07623",
   "metadata": {
    "ExecuteTime": {
     "end_time": "2022-03-02T18:44:39.559959Z",
     "start_time": "2022-03-02T18:44:39.495950Z"
    }
   },
   "outputs": [
    {
     "data": {
      "text/html": [
       "<div>\n",
       "<style scoped>\n",
       "    .dataframe tbody tr th:only-of-type {\n",
       "        vertical-align: middle;\n",
       "    }\n",
       "\n",
       "    .dataframe tbody tr th {\n",
       "        vertical-align: top;\n",
       "    }\n",
       "\n",
       "    .dataframe thead th {\n",
       "        text-align: right;\n",
       "    }\n",
       "</style>\n",
       "<table border=\"1\" class=\"dataframe\">\n",
       "  <thead>\n",
       "    <tr style=\"text-align: right;\">\n",
       "      <th></th>\n",
       "      <th>age</th>\n",
       "      <th>workclass</th>\n",
       "      <th>educationno</th>\n",
       "      <th>maritalstatus</th>\n",
       "      <th>occupation</th>\n",
       "      <th>relationship</th>\n",
       "      <th>race</th>\n",
       "      <th>sex</th>\n",
       "      <th>capitalgain</th>\n",
       "      <th>capitalloss</th>\n",
       "      <th>hoursperweek</th>\n",
       "    </tr>\n",
       "  </thead>\n",
       "  <tbody>\n",
       "    <tr>\n",
       "      <th>0</th>\n",
       "      <td>8</td>\n",
       "      <td>2</td>\n",
       "      <td>6</td>\n",
       "      <td>4</td>\n",
       "      <td>6</td>\n",
       "      <td>3</td>\n",
       "      <td>2</td>\n",
       "      <td>1</td>\n",
       "      <td>0</td>\n",
       "      <td>0</td>\n",
       "      <td>39</td>\n",
       "    </tr>\n",
       "    <tr>\n",
       "      <th>1</th>\n",
       "      <td>21</td>\n",
       "      <td>2</td>\n",
       "      <td>8</td>\n",
       "      <td>2</td>\n",
       "      <td>4</td>\n",
       "      <td>0</td>\n",
       "      <td>4</td>\n",
       "      <td>1</td>\n",
       "      <td>0</td>\n",
       "      <td>0</td>\n",
       "      <td>49</td>\n",
       "    </tr>\n",
       "    <tr>\n",
       "      <th>2</th>\n",
       "      <td>11</td>\n",
       "      <td>1</td>\n",
       "      <td>11</td>\n",
       "      <td>2</td>\n",
       "      <td>10</td>\n",
       "      <td>0</td>\n",
       "      <td>4</td>\n",
       "      <td>1</td>\n",
       "      <td>0</td>\n",
       "      <td>0</td>\n",
       "      <td>39</td>\n",
       "    </tr>\n",
       "    <tr>\n",
       "      <th>3</th>\n",
       "      <td>27</td>\n",
       "      <td>2</td>\n",
       "      <td>9</td>\n",
       "      <td>2</td>\n",
       "      <td>6</td>\n",
       "      <td>0</td>\n",
       "      <td>2</td>\n",
       "      <td>1</td>\n",
       "      <td>87</td>\n",
       "      <td>0</td>\n",
       "      <td>39</td>\n",
       "    </tr>\n",
       "    <tr>\n",
       "      <th>4</th>\n",
       "      <td>17</td>\n",
       "      <td>2</td>\n",
       "      <td>5</td>\n",
       "      <td>4</td>\n",
       "      <td>7</td>\n",
       "      <td>1</td>\n",
       "      <td>4</td>\n",
       "      <td>1</td>\n",
       "      <td>0</td>\n",
       "      <td>0</td>\n",
       "      <td>29</td>\n",
       "    </tr>\n",
       "    <tr>\n",
       "      <th>...</th>\n",
       "      <td>...</td>\n",
       "      <td>...</td>\n",
       "      <td>...</td>\n",
       "      <td>...</td>\n",
       "      <td>...</td>\n",
       "      <td>...</td>\n",
       "      <td>...</td>\n",
       "      <td>...</td>\n",
       "      <td>...</td>\n",
       "      <td>...</td>\n",
       "      <td>...</td>\n",
       "    </tr>\n",
       "    <tr>\n",
       "      <th>15055</th>\n",
       "      <td>16</td>\n",
       "      <td>2</td>\n",
       "      <td>12</td>\n",
       "      <td>4</td>\n",
       "      <td>9</td>\n",
       "      <td>3</td>\n",
       "      <td>4</td>\n",
       "      <td>1</td>\n",
       "      <td>0</td>\n",
       "      <td>0</td>\n",
       "      <td>39</td>\n",
       "    </tr>\n",
       "    <tr>\n",
       "      <th>15056</th>\n",
       "      <td>22</td>\n",
       "      <td>2</td>\n",
       "      <td>12</td>\n",
       "      <td>0</td>\n",
       "      <td>9</td>\n",
       "      <td>1</td>\n",
       "      <td>4</td>\n",
       "      <td>0</td>\n",
       "      <td>0</td>\n",
       "      <td>0</td>\n",
       "      <td>35</td>\n",
       "    </tr>\n",
       "    <tr>\n",
       "      <th>15057</th>\n",
       "      <td>21</td>\n",
       "      <td>2</td>\n",
       "      <td>12</td>\n",
       "      <td>2</td>\n",
       "      <td>9</td>\n",
       "      <td>0</td>\n",
       "      <td>4</td>\n",
       "      <td>1</td>\n",
       "      <td>0</td>\n",
       "      <td>0</td>\n",
       "      <td>49</td>\n",
       "    </tr>\n",
       "    <tr>\n",
       "      <th>15058</th>\n",
       "      <td>27</td>\n",
       "      <td>2</td>\n",
       "      <td>12</td>\n",
       "      <td>0</td>\n",
       "      <td>0</td>\n",
       "      <td>3</td>\n",
       "      <td>1</td>\n",
       "      <td>1</td>\n",
       "      <td>73</td>\n",
       "      <td>0</td>\n",
       "      <td>39</td>\n",
       "    </tr>\n",
       "    <tr>\n",
       "      <th>15059</th>\n",
       "      <td>18</td>\n",
       "      <td>3</td>\n",
       "      <td>12</td>\n",
       "      <td>2</td>\n",
       "      <td>3</td>\n",
       "      <td>0</td>\n",
       "      <td>4</td>\n",
       "      <td>1</td>\n",
       "      <td>0</td>\n",
       "      <td>0</td>\n",
       "      <td>59</td>\n",
       "    </tr>\n",
       "  </tbody>\n",
       "</table>\n",
       "<p>15060 rows × 11 columns</p>\n",
       "</div>"
      ],
      "text/plain": [
       "       age  workclass  educationno  maritalstatus  occupation  relationship  \\\n",
       "0        8          2            6              4           6             3   \n",
       "1       21          2            8              2           4             0   \n",
       "2       11          1           11              2          10             0   \n",
       "3       27          2            9              2           6             0   \n",
       "4       17          2            5              4           7             1   \n",
       "...    ...        ...          ...            ...         ...           ...   \n",
       "15055   16          2           12              4           9             3   \n",
       "15056   22          2           12              0           9             1   \n",
       "15057   21          2           12              2           9             0   \n",
       "15058   27          2           12              0           0             3   \n",
       "15059   18          3           12              2           3             0   \n",
       "\n",
       "       race  sex  capitalgain  capitalloss  hoursperweek  \n",
       "0         2    1            0            0            39  \n",
       "1         4    1            0            0            49  \n",
       "2         4    1            0            0            39  \n",
       "3         2    1           87            0            39  \n",
       "4         4    1            0            0            29  \n",
       "...     ...  ...          ...          ...           ...  \n",
       "15055     4    1            0            0            39  \n",
       "15056     4    0            0            0            35  \n",
       "15057     4    1            0            0            49  \n",
       "15058     1    1           73            0            39  \n",
       "15059     4    1            0            0            59  \n",
       "\n",
       "[15060 rows x 11 columns]"
      ]
     },
     "execution_count": 85,
     "metadata": {},
     "output_type": "execute_result"
    }
   ],
   "source": [
    "x"
   ]
  },
  {
   "cell_type": "code",
   "execution_count": 86,
   "id": "77b1f299",
   "metadata": {
    "ExecuteTime": {
     "end_time": "2022-03-02T18:44:45.049942Z",
     "start_time": "2022-03-02T18:44:45.025938Z"
    }
   },
   "outputs": [
    {
     "data": {
      "text/plain": [
       "0        0\n",
       "1        0\n",
       "2        1\n",
       "3        1\n",
       "4        0\n",
       "        ..\n",
       "15055    0\n",
       "15056    0\n",
       "15057    0\n",
       "15058    0\n",
       "15059    1\n",
       "Name: Salary, Length: 15060, dtype: int32"
      ]
     },
     "execution_count": 86,
     "metadata": {},
     "output_type": "execute_result"
    }
   ],
   "source": [
    "y"
   ]
  },
  {
   "cell_type": "code",
   "execution_count": 87,
   "id": "0f5139b1",
   "metadata": {
    "ExecuteTime": {
     "end_time": "2022-03-02T18:45:14.759110Z",
     "start_time": "2022-03-02T18:45:14.727110Z"
    }
   },
   "outputs": [],
   "source": [
    "x_train, x_test, y_train, y_test = train_test_split(x , y, test_size=0.33, random_state=42)"
   ]
  },
  {
   "cell_type": "markdown",
   "id": "0d0f364f",
   "metadata": {},
   "source": [
    "# Building Multinomial Naive Bayes Model on SalaryData_Test"
   ]
  },
  {
   "cell_type": "code",
   "execution_count": 88,
   "id": "2e09680f",
   "metadata": {
    "ExecuteTime": {
     "end_time": "2022-03-02T18:45:26.528334Z",
     "start_time": "2022-03-02T18:45:26.496332Z"
    }
   },
   "outputs": [
    {
     "data": {
      "text/plain": [
       "MultinomialNB()"
      ]
     },
     "execution_count": 88,
     "metadata": {},
     "output_type": "execute_result"
    }
   ],
   "source": [
    "# Preparing a naive bayes model on training data set  Multinomial Naive Bayes\n",
    "classifier_mb = MB()\n",
    "classifier_mb.fit(x_train, y_train)"
   ]
  },
  {
   "cell_type": "code",
   "execution_count": 89,
   "id": "679cb883",
   "metadata": {
    "ExecuteTime": {
     "end_time": "2022-03-02T18:45:39.605505Z",
     "start_time": "2022-03-02T18:45:39.565501Z"
    }
   },
   "outputs": [
    {
     "name": "stdout",
     "output_type": "stream",
     "text": [
      "The accuracy of Gaussian Naive Bayes is 0.7762575452716298\n"
     ]
    }
   ],
   "source": [
    "score_multinomial = classifier_mb.score(x_test , y_test)\n",
    "print('The accuracy of Gaussian Naive Bayes is', score_multinomial)"
   ]
  },
  {
   "cell_type": "markdown",
   "id": "cae053d7",
   "metadata": {},
   "source": [
    "# Building Gaussian Naive Bayes Model on SalaryData_Test"
   ]
  },
  {
   "cell_type": "code",
   "execution_count": 90,
   "id": "353f677b",
   "metadata": {
    "ExecuteTime": {
     "end_time": "2022-03-02T18:45:48.075516Z",
     "start_time": "2022-03-02T18:45:48.035510Z"
    }
   },
   "outputs": [
    {
     "data": {
      "text/plain": [
       "GaussianNB()"
      ]
     },
     "execution_count": 90,
     "metadata": {},
     "output_type": "execute_result"
    }
   ],
   "source": [
    "# Gaussian Naive Bayes\n",
    "classifier_gb = GB()\n",
    "classifier_gb.fit(x_train, y_train)"
   ]
  },
  {
   "cell_type": "code",
   "execution_count": 91,
   "id": "60449ffb",
   "metadata": {
    "ExecuteTime": {
     "end_time": "2022-03-02T18:45:58.090925Z",
     "start_time": "2022-03-02T18:45:58.058917Z"
    }
   },
   "outputs": [
    {
     "name": "stdout",
     "output_type": "stream",
     "text": [
      "The accuracy of Gaussian Naive Bayes is 0.8072434607645875\n"
     ]
    }
   ],
   "source": [
    "score_gaussian = classifier_gb.score(x_test , y_test)\n",
    "print('The accuracy of Gaussian Naive Bayes is', score_gaussian)"
   ]
  },
  {
   "cell_type": "markdown",
   "id": "f67ef7be",
   "metadata": {},
   "source": [
    "# Testing Gaussian Naive Bays model on SalaryData_Test"
   ]
  },
  {
   "cell_type": "code",
   "execution_count": 92,
   "id": "63e37300",
   "metadata": {
    "ExecuteTime": {
     "end_time": "2022-03-02T18:46:38.158288Z",
     "start_time": "2022-03-02T18:46:37.942263Z"
    }
   },
   "outputs": [
    {
     "name": "stdout",
     "output_type": "stream",
     "text": [
      "              precision    recall  f1-score   support\n",
      "\n",
      "           0       0.84      0.93      0.88     11360\n",
      "           1       0.68      0.46      0.55      3700\n",
      "\n",
      "    accuracy                           0.81     15060\n",
      "   macro avg       0.76      0.69      0.71     15060\n",
      "weighted avg       0.80      0.81      0.80     15060\n",
      "\n",
      "[[10552   808]\n",
      " [ 2006  1694]]\n",
      "Accuracy: 0.8131474103585657\n",
      "Precision: 0.6770583533173461\n",
      "Recall: 0.4578378378378378\n"
     ]
    }
   ],
   "source": [
    "# make predictions\n",
    "new_prediction = classifier_gb.predict(x)\n",
    "# summarize the fit of the model\n",
    "print(metrics.classification_report(y , new_prediction))\n",
    "print(metrics.confusion_matrix(y , new_prediction))\n",
    "\n",
    "print(\"Accuracy:\",metrics.accuracy_score(y , new_prediction))\n",
    "print(\"Precision:\",metrics.precision_score(y , new_prediction))\n",
    "print(\"Recall:\",metrics.recall_score(y , new_prediction))"
   ]
  },
  {
   "cell_type": "code",
   "execution_count": null,
   "id": "7dfa2d0a",
   "metadata": {},
   "outputs": [],
   "source": []
  },
  {
   "cell_type": "code",
   "execution_count": null,
   "id": "077167a6",
   "metadata": {},
   "outputs": [],
   "source": []
  }
 ],
 "metadata": {
  "kernelspec": {
   "display_name": "Python 3 (ipykernel)",
   "language": "python",
   "name": "python3"
  },
  "language_info": {
   "codemirror_mode": {
    "name": "ipython",
    "version": 3
   },
   "file_extension": ".py",
   "mimetype": "text/x-python",
   "name": "python",
   "nbconvert_exporter": "python",
   "pygments_lexer": "ipython3",
   "version": "3.9.7"
  }
 },
 "nbformat": 4,
 "nbformat_minor": 5
}
