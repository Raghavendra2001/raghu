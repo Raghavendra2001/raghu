{
 "cells": [
  {
   "cell_type": "code",
   "execution_count": 91,
   "id": "92fa9d1c",
   "metadata": {
    "ExecuteTime": {
     "end_time": "2022-04-20T03:34:55.141537Z",
     "start_time": "2022-04-20T03:34:55.115531Z"
    }
   },
   "outputs": [],
   "source": [
    "import pandas as pd \n",
    "import numpy as np \n",
    "import seaborn as sns \n",
    "import matplotlib.pyplot as plt\n",
    "import statsmodels.formula.api as smf"
   ]
  },
  {
   "cell_type": "code",
   "execution_count": 92,
   "id": "bf61058b",
   "metadata": {
    "ExecuteTime": {
     "end_time": "2022-04-20T03:34:55.483971Z",
     "start_time": "2022-04-20T03:34:55.148542Z"
    }
   },
   "outputs": [],
   "source": [
    "from sklearn.preprocessing import LabelEncoder\n",
    "from sklearn.model_selection import train_test_split\n",
    "from sklearn.metrics import r2_score\n",
    "from sklearn.linear_model import LinearRegression\n",
    "from sklearn.preprocessing import MinMaxScaler\n",
    "import warnings"
   ]
  },
  {
   "cell_type": "code",
   "execution_count": 93,
   "id": "c05c48ec",
   "metadata": {
    "ExecuteTime": {
     "end_time": "2022-04-20T03:34:55.806931Z",
     "start_time": "2022-04-20T03:34:55.502972Z"
    }
   },
   "outputs": [],
   "source": [
    "data=pd.read_csv(\"co2_emissions (1).csv\",sep=\";\")"
   ]
  },
  {
   "cell_type": "code",
   "execution_count": 94,
   "id": "45d33948",
   "metadata": {
    "ExecuteTime": {
     "end_time": "2022-04-20T03:34:56.050480Z",
     "start_time": "2022-04-20T03:34:55.820932Z"
    }
   },
   "outputs": [
    {
     "data": {
      "text/html": [
       "<div>\n",
       "<style scoped>\n",
       "    .dataframe tbody tr th:only-of-type {\n",
       "        vertical-align: middle;\n",
       "    }\n",
       "\n",
       "    .dataframe tbody tr th {\n",
       "        vertical-align: top;\n",
       "    }\n",
       "\n",
       "    .dataframe thead th {\n",
       "        text-align: right;\n",
       "    }\n",
       "</style>\n",
       "<table border=\"1\" class=\"dataframe\">\n",
       "  <thead>\n",
       "    <tr style=\"text-align: right;\">\n",
       "      <th></th>\n",
       "      <th>make</th>\n",
       "      <th>model</th>\n",
       "      <th>vehicle_class</th>\n",
       "      <th>engine_size</th>\n",
       "      <th>cylinders</th>\n",
       "      <th>transmission</th>\n",
       "      <th>fuel_type</th>\n",
       "      <th>fuel_consumption_city</th>\n",
       "      <th>fuel_consumption_hwy</th>\n",
       "      <th>fuel_consumption_comb(l/100km)</th>\n",
       "      <th>fuel_consumption_comb(mpg)</th>\n",
       "      <th>co2_emissions</th>\n",
       "    </tr>\n",
       "  </thead>\n",
       "  <tbody>\n",
       "    <tr>\n",
       "      <th>1075</th>\n",
       "      <td>ACURA</td>\n",
       "      <td>RDX AWD</td>\n",
       "      <td>SUV - SMALL</td>\n",
       "      <td>3.5</td>\n",
       "      <td>6</td>\n",
       "      <td>AS</td>\n",
       "      <td>Z</td>\n",
       "      <td>12.1</td>\n",
       "      <td>8.7</td>\n",
       "      <td>10.6</td>\n",
       "      <td>27</td>\n",
       "      <td>244</td>\n",
       "    </tr>\n",
       "    <tr>\n",
       "      <th>1076</th>\n",
       "      <td>ACURA</td>\n",
       "      <td>RLX</td>\n",
       "      <td>MID-SIZE</td>\n",
       "      <td>3.5</td>\n",
       "      <td>6</td>\n",
       "      <td>AS</td>\n",
       "      <td>Z</td>\n",
       "      <td>11.9</td>\n",
       "      <td>7.7</td>\n",
       "      <td>10.0</td>\n",
       "      <td>28</td>\n",
       "      <td>230</td>\n",
       "    </tr>\n",
       "    <tr>\n",
       "      <th>1081</th>\n",
       "      <td>ALFA ROMEO</td>\n",
       "      <td>4C</td>\n",
       "      <td>TWO-SEATER</td>\n",
       "      <td>1.8</td>\n",
       "      <td>4</td>\n",
       "      <td>AM</td>\n",
       "      <td>Z</td>\n",
       "      <td>9.7</td>\n",
       "      <td>6.9</td>\n",
       "      <td>8.4</td>\n",
       "      <td>34</td>\n",
       "      <td>193</td>\n",
       "    </tr>\n",
       "    <tr>\n",
       "      <th>1082</th>\n",
       "      <td>ASTON MARTIN</td>\n",
       "      <td>DB9</td>\n",
       "      <td>MINICOMPACT</td>\n",
       "      <td>5.9</td>\n",
       "      <td>12</td>\n",
       "      <td>A</td>\n",
       "      <td>Z</td>\n",
       "      <td>18.0</td>\n",
       "      <td>12.6</td>\n",
       "      <td>15.6</td>\n",
       "      <td>18</td>\n",
       "      <td>359</td>\n",
       "    </tr>\n",
       "    <tr>\n",
       "      <th>1084</th>\n",
       "      <td>ASTON MARTIN</td>\n",
       "      <td>V8 VANTAGE</td>\n",
       "      <td>TWO-SEATER</td>\n",
       "      <td>4.7</td>\n",
       "      <td>8</td>\n",
       "      <td>AM</td>\n",
       "      <td>Z</td>\n",
       "      <td>17.4</td>\n",
       "      <td>11.3</td>\n",
       "      <td>14.7</td>\n",
       "      <td>19</td>\n",
       "      <td>338</td>\n",
       "    </tr>\n",
       "    <tr>\n",
       "      <th>...</th>\n",
       "      <td>...</td>\n",
       "      <td>...</td>\n",
       "      <td>...</td>\n",
       "      <td>...</td>\n",
       "      <td>...</td>\n",
       "      <td>...</td>\n",
       "      <td>...</td>\n",
       "      <td>...</td>\n",
       "      <td>...</td>\n",
       "      <td>...</td>\n",
       "      <td>...</td>\n",
       "      <td>...</td>\n",
       "    </tr>\n",
       "    <tr>\n",
       "      <th>7356</th>\n",
       "      <td>TOYOTA</td>\n",
       "      <td>Tundra</td>\n",
       "      <td>PICKUP TRUCK - STANDARD</td>\n",
       "      <td>5.7</td>\n",
       "      <td>8</td>\n",
       "      <td>AS</td>\n",
       "      <td>X</td>\n",
       "      <td>17.7</td>\n",
       "      <td>13.6</td>\n",
       "      <td>15.9</td>\n",
       "      <td>18</td>\n",
       "      <td>371</td>\n",
       "    </tr>\n",
       "    <tr>\n",
       "      <th>7365</th>\n",
       "      <td>VOLKSWAGEN</td>\n",
       "      <td>Golf GTI</td>\n",
       "      <td>COMPACT</td>\n",
       "      <td>2.0</td>\n",
       "      <td>4</td>\n",
       "      <td>M</td>\n",
       "      <td>X</td>\n",
       "      <td>9.8</td>\n",
       "      <td>7.3</td>\n",
       "      <td>8.7</td>\n",
       "      <td>32</td>\n",
       "      <td>203</td>\n",
       "    </tr>\n",
       "    <tr>\n",
       "      <th>7366</th>\n",
       "      <td>VOLKSWAGEN</td>\n",
       "      <td>Jetta</td>\n",
       "      <td>COMPACT</td>\n",
       "      <td>1.4</td>\n",
       "      <td>4</td>\n",
       "      <td>AS</td>\n",
       "      <td>X</td>\n",
       "      <td>7.8</td>\n",
       "      <td>5.9</td>\n",
       "      <td>7.0</td>\n",
       "      <td>40</td>\n",
       "      <td>162</td>\n",
       "    </tr>\n",
       "    <tr>\n",
       "      <th>7367</th>\n",
       "      <td>VOLKSWAGEN</td>\n",
       "      <td>Jetta</td>\n",
       "      <td>COMPACT</td>\n",
       "      <td>1.4</td>\n",
       "      <td>4</td>\n",
       "      <td>M</td>\n",
       "      <td>X</td>\n",
       "      <td>7.9</td>\n",
       "      <td>5.9</td>\n",
       "      <td>7.0</td>\n",
       "      <td>40</td>\n",
       "      <td>163</td>\n",
       "    </tr>\n",
       "    <tr>\n",
       "      <th>7368</th>\n",
       "      <td>VOLKSWAGEN</td>\n",
       "      <td>Jetta GLI</td>\n",
       "      <td>COMPACT</td>\n",
       "      <td>2.0</td>\n",
       "      <td>4</td>\n",
       "      <td>AM</td>\n",
       "      <td>X</td>\n",
       "      <td>9.3</td>\n",
       "      <td>7.2</td>\n",
       "      <td>8.4</td>\n",
       "      <td>34</td>\n",
       "      <td>196</td>\n",
       "    </tr>\n",
       "  </tbody>\n",
       "</table>\n",
       "<p>1112 rows × 12 columns</p>\n",
       "</div>"
      ],
      "text/plain": [
       "              make       model            vehicle_class  engine_size  \\\n",
       "1075         ACURA     RDX AWD              SUV - SMALL          3.5   \n",
       "1076         ACURA         RLX                 MID-SIZE          3.5   \n",
       "1081    ALFA ROMEO          4C               TWO-SEATER          1.8   \n",
       "1082  ASTON MARTIN         DB9              MINICOMPACT          5.9   \n",
       "1084  ASTON MARTIN  V8 VANTAGE               TWO-SEATER          4.7   \n",
       "...            ...         ...                      ...          ...   \n",
       "7356        TOYOTA      Tundra  PICKUP TRUCK - STANDARD          5.7   \n",
       "7365    VOLKSWAGEN    Golf GTI                  COMPACT          2.0   \n",
       "7366    VOLKSWAGEN       Jetta                  COMPACT          1.4   \n",
       "7367    VOLKSWAGEN       Jetta                  COMPACT          1.4   \n",
       "7368    VOLKSWAGEN   Jetta GLI                  COMPACT          2.0   \n",
       "\n",
       "      cylinders transmission fuel_type  fuel_consumption_city  \\\n",
       "1075          6           AS         Z                   12.1   \n",
       "1076          6           AS         Z                   11.9   \n",
       "1081          4           AM         Z                    9.7   \n",
       "1082         12            A         Z                   18.0   \n",
       "1084          8           AM         Z                   17.4   \n",
       "...         ...          ...       ...                    ...   \n",
       "7356          8           AS         X                   17.7   \n",
       "7365          4            M         X                    9.8   \n",
       "7366          4           AS         X                    7.8   \n",
       "7367          4            M         X                    7.9   \n",
       "7368          4           AM         X                    9.3   \n",
       "\n",
       "      fuel_consumption_hwy  fuel_consumption_comb(l/100km)  \\\n",
       "1075                   8.7                            10.6   \n",
       "1076                   7.7                            10.0   \n",
       "1081                   6.9                             8.4   \n",
       "1082                  12.6                            15.6   \n",
       "1084                  11.3                            14.7   \n",
       "...                    ...                             ...   \n",
       "7356                  13.6                            15.9   \n",
       "7365                   7.3                             8.7   \n",
       "7366                   5.9                             7.0   \n",
       "7367                   5.9                             7.0   \n",
       "7368                   7.2                             8.4   \n",
       "\n",
       "      fuel_consumption_comb(mpg)  co2_emissions  \n",
       "1075                          27            244  \n",
       "1076                          28            230  \n",
       "1081                          34            193  \n",
       "1082                          18            359  \n",
       "1084                          19            338  \n",
       "...                          ...            ...  \n",
       "7356                          18            371  \n",
       "7365                          32            203  \n",
       "7366                          40            162  \n",
       "7367                          40            163  \n",
       "7368                          34            196  \n",
       "\n",
       "[1112 rows x 12 columns]"
      ]
     },
     "execution_count": 94,
     "metadata": {},
     "output_type": "execute_result"
    }
   ],
   "source": [
    "data[data.duplicated()]"
   ]
  },
  {
   "cell_type": "code",
   "execution_count": 95,
   "id": "27ff4bd8",
   "metadata": {
    "ExecuteTime": {
     "end_time": "2022-04-20T03:34:56.117495Z",
     "start_time": "2022-04-20T03:34:56.075485Z"
    }
   },
   "outputs": [],
   "source": [
    "data.drop_duplicates(inplace=True)"
   ]
  },
  {
   "cell_type": "code",
   "execution_count": 96,
   "id": "24d9af7b",
   "metadata": {
    "ExecuteTime": {
     "end_time": "2022-04-20T03:34:56.266937Z",
     "start_time": "2022-04-20T03:34:56.127498Z"
    }
   },
   "outputs": [],
   "source": [
    "from sklearn.preprocessing import LabelEncoder\n",
    "labelencoder = LabelEncoder()\n",
    "data1 = data.copy()\n",
    "data1[\"transmission\"] = labelencoder.fit_transform(data1[\"transmission\"])\n",
    "data1[\"fuel_type\"] = labelencoder.fit_transform(data1[\"fuel_type\"])\n",
    "data1[\"vehicle_class\"] = labelencoder.fit_transform(data1[\"vehicle_class\"])"
   ]
  },
  {
   "cell_type": "code",
   "execution_count": 97,
   "id": "16c9dd02",
   "metadata": {
    "ExecuteTime": {
     "end_time": "2022-04-20T03:34:56.555714Z",
     "start_time": "2022-04-20T03:34:56.279941Z"
    }
   },
   "outputs": [
    {
     "name": "stdout",
     "output_type": "stream",
     "text": [
      "vehicle_class                      9.0\n",
      "engine_size                        1.7\n",
      "cylinders                          2.0\n",
      "transmission                       1.0\n",
      "fuel_type                          1.0\n",
      "fuel_consumption_city              4.6\n",
      "fuel_consumption_hwy               2.8\n",
      "fuel_consumption_comb(l/100km)     3.8\n",
      "fuel_consumption_comb(mpg)        10.0\n",
      "co2_emissions                     81.0\n",
      "dtype: float64\n"
     ]
    }
   ],
   "source": [
    "Q1=data1.quantile(0.25)\n",
    "Q3=data1.quantile(0.75)\n",
    "IQR=Q3-Q1\n",
    "print(IQR)"
   ]
  },
  {
   "cell_type": "code",
   "execution_count": 98,
   "id": "a81a6f64",
   "metadata": {
    "ExecuteTime": {
     "end_time": "2022-04-20T03:34:56.814093Z",
     "start_time": "2022-04-20T03:34:56.580717Z"
    }
   },
   "outputs": [
    {
     "name": "stderr",
     "output_type": "stream",
     "text": [
      "C:\\Users\\Pavani\\AppData\\Local\\Temp/ipykernel_13504/1240933532.py:1: FutureWarning: Automatic reindexing on DataFrame vs Series comparisons is deprecated and will raise ValueError in a future version.  Do `left, right = left.align(right, axis=1, copy=False)` before e.g. `left == right`\n",
      "  data1=data1[~((data1<(Q1-1.5*IQR))|(data1>(Q3+1.5*IQR))).any(axis=1)]\n"
     ]
    },
    {
     "data": {
      "text/plain": [
       "(4454, 12)"
      ]
     },
     "execution_count": 98,
     "metadata": {},
     "output_type": "execute_result"
    }
   ],
   "source": [
    "data1=data1[~((data1<(Q1-1.5*IQR))|(data1>(Q3+1.5*IQR))).any(axis=1)]\n",
    "data1.shape"
   ]
  },
  {
   "cell_type": "code",
   "execution_count": 99,
   "id": "8aa204d0",
   "metadata": {
    "ExecuteTime": {
     "end_time": "2022-04-20T03:34:56.949079Z",
     "start_time": "2022-04-20T03:34:56.823095Z"
    }
   },
   "outputs": [],
   "source": [
    "data2=data1.drop(\"model\", axis=1)"
   ]
  },
  {
   "cell_type": "code",
   "execution_count": 100,
   "id": "5749fc99",
   "metadata": {
    "ExecuteTime": {
     "end_time": "2022-04-20T03:34:57.165761Z",
     "start_time": "2022-04-20T03:34:56.970080Z"
    }
   },
   "outputs": [],
   "source": [
    "data3=data2.drop(\"make\", axis=1)"
   ]
  },
  {
   "cell_type": "code",
   "execution_count": 101,
   "id": "4e13a798",
   "metadata": {
    "ExecuteTime": {
     "end_time": "2022-04-20T03:34:57.380121Z",
     "start_time": "2022-04-20T03:34:57.173762Z"
    }
   },
   "outputs": [],
   "source": [
    "array = data3.values\n",
    "X = array[:,0:9]\n",
    "Y = array[:,9]"
   ]
  },
  {
   "cell_type": "code",
   "execution_count": 102,
   "id": "d4798e92",
   "metadata": {
    "ExecuteTime": {
     "end_time": "2022-04-20T03:34:57.729084Z",
     "start_time": "2022-04-20T03:34:57.390125Z"
    }
   },
   "outputs": [],
   "source": [
    "from sklearn.model_selection import train_test_split\n",
    "X_train, X_test, Y_train, Y_test = train_test_split(X, Y, test_size=0.33, random_state=10)"
   ]
  },
  {
   "cell_type": "code",
   "execution_count": 103,
   "id": "7a762870",
   "metadata": {
    "ExecuteTime": {
     "end_time": "2022-04-20T03:34:59.137012Z",
     "start_time": "2022-04-20T03:34:57.737087Z"
    }
   },
   "outputs": [
    {
     "data": {
      "text/plain": [
       "array([6, 2, 1, 5, 3, 1, 1, 1, 4])"
      ]
     },
     "execution_count": 103,
     "metadata": {},
     "output_type": "execute_result"
    }
   ],
   "source": [
    "# feature extraction\n",
    "from sklearn.feature_selection import RFE\n",
    "from sklearn.linear_model import LinearRegression\n",
    "model = LinearRegression()\n",
    "\n",
    "\n",
    "rfe = RFE(model, n_features_to_select=4)\n",
    "fit = rfe.fit(X, Y)\n",
    "\n",
    "fit.n_features_\n",
    "fit.support_\n",
    "fit.ranking_"
   ]
  },
  {
   "cell_type": "code",
   "execution_count": 104,
   "id": "7e79f12e",
   "metadata": {
    "ExecuteTime": {
     "end_time": "2022-04-20T03:35:08.938117Z",
     "start_time": "2022-04-20T03:34:59.137012Z"
    }
   },
   "outputs": [
    {
     "name": "stdout",
     "output_type": "stream",
     "text": [
      "[0.10030704 0.10023745 0.01884378 0.06636657 0.0323902  0.19182197\n",
      " 0.20202073 0.20573944 0.08227283]\n"
     ]
    }
   ],
   "source": [
    "from sklearn.ensemble import ExtraTreesClassifier\n",
    "# feature extraction\n",
    "model = ExtraTreesClassifier()\n",
    "model.fit(X, Y)\n",
    "\n",
    "print(model.feature_importances_)"
   ]
  },
  {
   "cell_type": "code",
   "execution_count": 105,
   "id": "4dd2b0f0",
   "metadata": {
    "ExecuteTime": {
     "end_time": "2022-04-20T03:35:12.498416Z",
     "start_time": "2022-04-20T03:35:08.961630Z"
    }
   },
   "outputs": [
    {
     "name": "stdout",
     "output_type": "stream",
     "text": [
      "Random Forest:  0.9950350069180628\n"
     ]
    }
   ],
   "source": [
    "# Random Forest Regression\n",
    "from sklearn.ensemble import RandomForestRegressor\n",
    "from sklearn.metrics import r2_score\n",
    "\n",
    "model = RandomForestRegressor()\n",
    "\n",
    "model.fit(X_train,Y_train)\n",
    "model_pred=model.predict(X_test)\n",
    "\n",
    "model_accuracy_RF=r2_score(Y_test,model_pred)\n",
    "print('Random Forest: ',model_accuracy_RF)"
   ]
  }
 ],
 "metadata": {
  "kernelspec": {
   "display_name": "Python 3 (ipykernel)",
   "language": "python",
   "name": "python3"
  },
  "language_info": {
   "codemirror_mode": {
    "name": "ipython",
    "version": 3
   },
   "file_extension": ".py",
   "mimetype": "text/x-python",
   "name": "python",
   "nbconvert_exporter": "python",
   "pygments_lexer": "ipython3",
   "version": "3.9.7"
  }
 },
 "nbformat": 4,
 "nbformat_minor": 5
}
